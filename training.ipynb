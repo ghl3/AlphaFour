{
 "cells": [
  {
   "cell_type": "code",
   "execution_count": 1,
   "metadata": {},
   "outputs": [],
   "source": [
    "from __future__ import division"
   ]
  },
  {
   "cell_type": "code",
   "execution_count": 2,
   "metadata": {},
   "outputs": [],
   "source": [
    "import os\n",
    "import random\n",
    "import math\n",
    "import datetime\n",
    "import time"
   ]
  },
  {
   "cell_type": "code",
   "execution_count": 3,
   "metadata": {},
   "outputs": [],
   "source": [
    "import matplotlib.pyplot as plt\n",
    "%matplotlib inline"
   ]
  },
  {
   "cell_type": "code",
   "execution_count": 4,
   "metadata": {},
   "outputs": [],
   "source": [
    "import numpy as np\n",
    "import pandas as pd"
   ]
  },
  {
   "cell_type": "code",
   "execution_count": 5,
   "metadata": {},
   "outputs": [
    {
     "name": "stderr",
     "output_type": "stream",
     "text": [
      "Using TensorFlow backend.\n"
     ]
    }
   ],
   "source": [
    "import tensorflow as tf\n",
    "from keras import backend as K\n",
    "from keras import regularizers"
   ]
  },
  {
   "cell_type": "code",
   "execution_count": 33,
   "metadata": {},
   "outputs": [],
   "source": [
    "from keras.layers import Dense\n",
    "from keras.objectives import categorical_crossentropy\n",
    "from keras.metrics import categorical_accuracy\n",
    "from keras.regularizers import l2\n",
    "from keras.layers import Conv2D, Flatten\n",
    "from keras.layers.core import Reshape\n",
    "from keras.layers.merge import Concatenate\n",
    "from keras import optimizers\n",
    "from keras.layers import InputLayer, Dense, Activation\n"
   ]
  },
  {
   "cell_type": "code",
   "execution_count": 7,
   "metadata": {},
   "outputs": [],
   "source": [
    "%load_ext autoreload\n",
    "%autoreload 1\n",
    "\n",
    "%aimport training"
   ]
  },
  {
   "cell_type": "code",
   "execution_count": 8,
   "metadata": {},
   "outputs": [
    {
     "name": "stdout",
     "output_type": "stream",
     "text": [
      "Done Importing\n"
     ]
    }
   ],
   "source": [
    "print \"Done Importing\""
   ]
  },
  {
   "cell_type": "code",
   "execution_count": null,
   "metadata": {},
   "outputs": [],
   "source": [
    "sess = tf.Session(config=tf.ConfigProto(log_device_placement=True))"
   ]
  },
  {
   "cell_type": "markdown",
   "metadata": {},
   "source": [
    "# Architectures"
   ]
  },
  {
   "cell_type": "markdown",
   "metadata": {},
   "source": [
    "## Arch 1: Normal dense fully-connected neural network"
   ]
  },
  {
   "cell_type": "code",
   "execution_count": null,
   "metadata": {},
   "outputs": [],
   "source": [
    "# Create a graph to hold the model.\n",
    "graph_dense = tf.Graph()\n",
    "\n",
    "# Create model in the graph.\n",
    "with graph_dense.as_default():\n",
    "\n",
    "    # Keras layers can be called on TensorFlow tensors:\n",
    "    board = tf.placeholder(tf.float32, shape=(None, 42), name='board')\n",
    "    outcome = tf.placeholder(tf.float32, shape=(None, 3), name='outcome')\n",
    "\n",
    "    # Fully connected layers\n",
    "    \n",
    "    x = Dense(2048,\n",
    "              activation='relu',\n",
    "              kernel_regularizer=regularizers.l2(0.1),\n",
    "              bias_regularizer=regularizers.l2(0.1),\n",
    "              kernel_initializer='random_uniform',\n",
    "              bias_initializer='zeros')(board)\n",
    "    \n",
    "    x = Dense(1024,\n",
    "              activation='relu',\n",
    "              kernel_regularizer=regularizers.l2(0.1),\n",
    "              bias_regularizer=regularizers.l2(0.1),\n",
    "              kernel_initializer='random_uniform',\n",
    "              bias_initializer='zeros')(x)\n",
    "   \n",
    "    x = Dense(512,\n",
    "              activation='relu',\n",
    "              kernel_regularizer=regularizers.l2(0.1),\n",
    "              bias_regularizer=regularizers.l2(0.1),\n",
    "              kernel_initializer='random_uniform',\n",
    "              bias_initializer='zeros')(x)\n",
    "    \n",
    "    x = Dense(48,\n",
    "              activation='relu',\n",
    "              kernel_regularizer=regularizers.l2(0.1),\n",
    "              bias_regularizer=regularizers.l2(0.1),\n",
    "              kernel_initializer='random_uniform',\n",
    "              bias_initializer='zeros')(x)\n",
    "\n",
    "    # output layer with 10 units and a softmax activation\n",
    "    preds = Dense(3, activation='softmax', name='preds')(x) \n",
    "        \n",
    "    with tf.name_scope('evaluation') as scope:\n",
    "        \n",
    "        loss = tf.identity(tf.reduce_mean(categorical_crossentropy(outcome, preds)), name='loss')\n",
    "        accuracy = tf.identity(tf.reduce_mean(categorical_accuracy(outcome, preds)), name='accuracy')\n",
    "                                    \n",
    "        holdout_summaries = tf.identity(tf.summary.merge([\n",
    "            tf.summary.scalar('holdout_loss', loss),\n",
    "            tf.summary.scalar('holdout_accuracy', accuracy)]),\n",
    "            name='holdout_summaries')\n",
    "        \n",
    "        batch_summaries = tf.identity(tf.summary.merge([\n",
    "            tf.summary.scalar('batch_loss', loss),\n",
    "            tf.summary.scalar('batch_accuracy', accuracy)]),\n",
    "            name='batch_summaries')       \n",
    "    \n",
    "    with tf.name_scope('training') as scope:\n",
    "        train_step = tf.train.AdamOptimizer(learning_rate=0.01, epsilon=0.1).minimize(loss, name='train_step')\n",
    "    \n",
    "    # Initialize all variables\n",
    "    init_op = tf.global_variables_initializer()\n",
    "    \n",
    "    #all_summaries = tf.summary.merge_all()"
   ]
  },
  {
   "cell_type": "markdown",
   "metadata": {},
   "source": [
    "## Arch 2: Pure CovNet"
   ]
  },
  {
   "cell_type": "code",
   "execution_count": null,
   "metadata": {
    "scrolled": false
   },
   "outputs": [],
   "source": [
    "# Create a graph to hold the model.\n",
    "graph_cov_pure = tf.Graph()\n",
    "\n",
    "# Create model in the graph.\n",
    "with graph_cov_pure.as_default():\n",
    "    \n",
    "    # Keras layers can be called on TensorFlow tensors:\n",
    "    board = tf.placeholder(tf.float32, shape=(None, 42), name='board') \n",
    "    outcome = tf.placeholder(tf.float32, shape=(None, 3), name='outcome')    \n",
    "    \n",
    "    # The input data is [col0=[row_0, row_1, ...], col1=[row_0, row_1], ...]\n",
    "    rs = Reshape((7, 6, 1), input_shape=(42,))(board)\n",
    "    \n",
    "    conv_args = dict(\n",
    "        use_bias=True,\n",
    "        activation='relu',\n",
    "        kernel_initializer='random_uniform',\n",
    "        bias_initializer='zeros',\n",
    "        kernel_regularizer=regularizers.l2(0.01),\n",
    "        input_shape=(7, 6, 1),\n",
    "        padding='valid'\n",
    "    )\n",
    "    \n",
    "    # We use a few parallel covents, that we combine in the end        \n",
    "    c1 = (Conv2D(8,  kernel_size=(1, 2), **conv_args)(rs))\n",
    "    c2 = (Conv2D(16, kernel_size=(2, 1), **conv_args)(c1))\n",
    "    c3 = (Conv2D(32, kernel_size=(3, 3), **conv_args)(c2))\n",
    "    #c4 = (Conv2D(64, kernel_size=(6, 6), **conv_args)(c3))\n",
    "    \n",
    "    dense_args = dict(\n",
    "        use_bias=True,\n",
    "        activation='relu',\n",
    "        kernel_initializer='random_uniform',\n",
    "        bias_initializer='zeros',\n",
    "        kernel_regularizer=regularizers.l2(0.01),\n",
    "        bias_regularizer=regularizers.l2(0.01),    \n",
    "    )\n",
    "    \n",
    "    d = Dense(64,  **dense_args)(Flatten()(c3))         \n",
    "    \n",
    "    # output layer with 10 units and a softmax activation\n",
    "    preds = Dense(3, activation='softmax', name='preds')(d) \n",
    "    \n",
    "    with tf.name_scope('evaluation') as scope:\n",
    "                                \n",
    "        loss = tf.identity(tf.reduce_mean(categorical_crossentropy(outcome, preds)), name='loss')\n",
    "        accuracy = tf.identity(tf.reduce_mean(categorical_accuracy(outcome, preds)), name='accuracy')        \n",
    "        \n",
    "        holdout_summaries = tf.identity(tf.summary.merge([\n",
    "            tf.summary.scalar('holdout_loss', loss),\n",
    "            tf.summary.scalar('holdout_accuracy', accuracy)]),\n",
    "            name='holdout_summaries')\n",
    "        \n",
    "        batch_summaries = tf.identity(tf.summary.merge([\n",
    "            tf.summary.scalar('batch_loss', loss),\n",
    "            tf.summary.scalar('batch_accuracy', accuracy)]),\n",
    "            name='batch_summaries')                 \n",
    "        \n",
    "        #tf.summary.scalar('holdout_loss', loss)\n",
    "        \n",
    "        #acc_value = tf.identity(accuracy(outcome, preds), name='accuracy')\n",
    "        #tf.summary.scalar('holdout_accuracy', tf.reduce_mean(acc_value))\n",
    "    \n",
    "    with tf.name_scope('training') as scope:\n",
    "        train_step = tf.train.AdamOptimizer(learning_rate=0.01).minimize(loss, name='train_step')    \n",
    "    \n",
    "    # Initialize all variables\n",
    "    init_op = tf.global_variables_initializer()\n",
    "    \n",
    "    all_summaries = tf.summary.merge_all()"
   ]
  },
  {
   "cell_type": "markdown",
   "metadata": {},
   "source": [
    "## Arch 3: Complicated CovNet"
   ]
  },
  {
   "cell_type": "code",
   "execution_count": 53,
   "metadata": {},
   "outputs": [],
   "source": [
    "# Create a graph to hold the model.\n",
    "graph_cov_comp = tf.Graph()\n",
    "\n",
    "# Create model in the graph.\n",
    "with graph_cov_comp.as_default():\n",
    "    \n",
    "    # Keras layers can be called on TensorFlow tensors:\n",
    "    board = tf.placeholder(tf.float32, shape=(None, 42), name='board') \n",
    "    outcome = tf.placeholder(tf.float32, shape=(None, 3), name='outcome')    \n",
    "    \n",
    "    # The input data is [col0=[row_0, row_1, ...], col1=[row_0, row_1], ...]\n",
    "    rs = Reshape((7, 6, 1), input_shape=(42,))(board)\n",
    "    \n",
    "    conv_args = dict(\n",
    "        use_bias=True,\n",
    "        activation=\"relu\",\n",
    "        kernel_initializer='random_uniform',\n",
    "        bias_initializer='zeros',\n",
    "        kernel_regularizer=regularizers.l1_l2(0.1),\n",
    "        bias_regularizer=regularizers.l1_l2(0.1),\n",
    "        padding='valid'\n",
    "    )\n",
    "    \n",
    "    dense_args = dict(\n",
    "        use_bias=True,\n",
    "        activation=\"relu\",\n",
    "        kernel_initializer='random_uniform',\n",
    "        bias_initializer='zeros',\n",
    "        kernel_regularizer=regularizers.l1_l2(1.0),\n",
    "        bias_regularizer=regularizers.l1_l2(1.0),    \n",
    "    )\n",
    "    \n",
    "    # We use a few parallel covents, that we combine in the end        \n",
    "    caa = Flatten()(Conv2D(12, kernel_size=(5, 5), **conv_args)(rs))\n",
    "    cab = Flatten()(Conv2D(12, kernel_size=(4, 4), **conv_args)(rs))\n",
    "    cac = Flatten()(Conv2D(12, kernel_size=(3, 3), **conv_args)(rs))\n",
    "\n",
    "    cba = Flatten()(Conv2D(8, kernel_size=(6, 1), **conv_args)(rs))\n",
    "    cbb = Flatten()(Conv2D(8, kernel_size=(1, 6), **conv_args)(rs))\n",
    "    cbc = Flatten()(Conv2D(8, kernel_size=(4, 2), **conv_args)(rs))\n",
    "    cbd = Flatten()(Conv2D(8, kernel_size=(2, 4), **conv_args)(rs))\n",
    "    \n",
    "    cca = Flatten()(Conv2D(4, kernel_size=(1, 4), **conv_args)(rs))\n",
    "    ccb = Flatten()(Conv2D(4, kernel_size=(4, 1), **conv_args)(rs))\n",
    "    ccc = Flatten()(Conv2D(4, kernel_size=(2, 2), **conv_args)(rs))\n",
    "\n",
    "    d1 = Dense(512, **dense_args)(board)\n",
    "    \n",
    "    merged = Concatenate()([d1,\n",
    "                            caa, cab, cac,\n",
    "                            cba, cbb, cbc, cbd,\n",
    "                            cca, ccb, ccc])    \n",
    "        \n",
    "    x = Dense(512, **dense_args)(merged)         \n",
    "    x = Dense(256, **dense_args)(x)         \n",
    "    x = Dense(128, **dense_args)(x)    \n",
    "    x = Dense(48,  **dense_args)(x)\n",
    "    \n",
    "    # output layer with 10 units and a softmax activation\n",
    "    preds = Dense(3, activation='softmax', name='preds')(x) \n",
    "    \n",
    "    with tf.name_scope('evaluation') as scope:\n",
    "        \n",
    "        loss = tf.identity(tf.reduce_mean(categorical_crossentropy(outcome, preds)), name='loss')\n",
    "        accuracy = tf.identity(tf.reduce_mean(categorical_accuracy(outcome, preds)), name='accuracy')        \n",
    "        \n",
    "        holdout_summaries = tf.identity(tf.summary.merge([\n",
    "            tf.summary.scalar('holdout_loss', loss),\n",
    "            tf.summary.scalar('holdout_accuracy', accuracy)]),\n",
    "            name='holdout_summaries')\n",
    "        \n",
    "        batch_summaries = tf.identity(tf.summary.merge([\n",
    "            tf.summary.scalar('batch_loss', loss),\n",
    "            tf.summary.scalar('batch_accuracy', accuracy)]),\n",
    "            name='batch_summaries')  \n",
    "    \n",
    "    with tf.name_scope('training') as scope:\n",
    "        train_step = tf.train.AdamOptimizer(learning_rate=0.001).minimize(loss, name='train_step')    \n",
    "    \n",
    "    # Initialize all variables\n",
    "    init_op = tf.global_variables_initializer()\n",
    "    \n",
    "    all_summaries = tf.summary.merge_all()"
   ]
  },
  {
   "cell_type": "markdown",
   "metadata": {},
   "source": [
    "-----------------------"
   ]
  },
  {
   "cell_type": "markdown",
   "metadata": {},
   "source": [
    "# Gen 1"
   ]
  },
  {
   "cell_type": "code",
   "execution_count": 12,
   "metadata": {},
   "outputs": [],
   "source": [
    "#simulations/random-2017-10-28-17:13:04\n",
    "\n",
    "# 'random-2017-10-21-13:41:47'\n",
    "# 'random-2017-10-28-17:13:04'\n",
    "\n",
    "ds_gen1 = (training.DataLoader(frac_train=0.95, frac_test=0.05)\n",
    "           .add_dataset('random-2017-10-28-17:13:04')\n",
    "           .load())"
   ]
  },
  {
   "cell_type": "markdown",
   "metadata": {},
   "source": [
    "### Fully Connected"
   ]
  },
  {
   "cell_type": "code",
   "execution_count": null,
   "metadata": {
    "scrolled": true
   },
   "outputs": [],
   "source": [
    "training.train(graph_dense, './models/dense_{}'.format(datetime.datetime.now().strftime(\"%Y_%m_%d_%H%M%S\")),\n",
    "               ds_gen1,  batch_size=200, num_batches=15000)"
   ]
  },
  {
   "cell_type": "markdown",
   "metadata": {},
   "source": [
    "### Covnet"
   ]
  },
  {
   "cell_type": "code",
   "execution_count": null,
   "metadata": {},
   "outputs": [],
   "source": [
    "training.train(graph_cov_pure, './models/cov_pure_{}'.format(datetime.datetime.now().strftime(\"%Y_%m_%d_%H%M%S\")),\n",
    "               ds_gen1,  batch_size=200, num_batches=20000)"
   ]
  },
  {
   "cell_type": "markdown",
   "metadata": {},
   "source": [
    "\n",
    "### Advanced Covnet"
   ]
  },
  {
   "cell_type": "code",
   "execution_count": null,
   "metadata": {},
   "outputs": [],
   "source": [
    "# Best: gen1-cov2d_beta_2017_10_29_150829\n",
    "# Dataset: 'random-2017-10-28-17:13:04'\n",
    "# batch_size=500, learning_rate=0.001, regularization=(l1_l2, 1.0) (regularization of 0.1 seems to have the same effect...)\n",
    "# Include all convolutions (adding cc, cf, cg, ch)\n",
    "# Include 4 layers of dense: 512, 256, 128, 12\n",
    "# Accuracy: ~ .64"
   ]
  },
  {
   "cell_type": "code",
   "execution_count": 54,
   "metadata": {},
   "outputs": [
    {
     "name": "stdout",
     "output_type": "stream",
     "text": [
      "Running ./models/gen1-cov2d_alpha_2017_11_04_204810\n",
      "Epoch  0 Num Batches    0 Num Rows:          0 Hold-Out Accuracy: 0.5009 Loss: 1.0881 Time taken: 0.1s\n",
      "Epoch  1 Num Batches  400 Num Rows:     240000 Hold-Out Accuracy: 0.5805 Loss: 0.7541 Time taken: 46.2s\n",
      "Epoch  2 Num Batches  800 Num Rows:     480000 Hold-Out Accuracy: 0.5951 Loss: 0.7423 Time taken: 40.9s\n",
      "Epoch  3 Num Batches 1200 Num Rows:     720000 Hold-Out Accuracy: 0.5966 Loss: 0.7376 Time taken: 42.1s\n",
      "Epoch  4 Num Batches 1600 Num Rows:     960000 Hold-Out Accuracy: 0.6089 Loss: 0.7269 Time taken: 45.5s\n",
      "Epoch  5 Num Batches 2000 Num Rows:    1200000 Hold-Out Accuracy: 0.6126 Loss: 0.7202 Time taken: 47.7s\n",
      "Epoch  6 Num Batches 2400 Num Rows:    1440000 Hold-Out Accuracy: 0.6130 Loss: 0.7201 Time taken: 44.9s\n",
      "Epoch  7 Num Batches 2800 Num Rows:    1680000 Hold-Out Accuracy: 0.6192 Loss: 0.7133 Time taken: 44.5s\n",
      "Epoch  8 Num Batches 3200 Num Rows:    1920000 Hold-Out Accuracy: 0.6202 Loss: 0.7114 Time taken: 41.5s\n",
      "Epoch  9 Num Batches 3600 Num Rows:    2160000 Hold-Out Accuracy: 0.6217 Loss: 0.7084 Time taken: 42.0s\n",
      "Epoch 10 Num Batches 4000 Num Rows:    2400000 Hold-Out Accuracy: 0.6236 Loss: 0.7054 Time taken: 41.9s\n",
      "Epoch 11 Num Batches 4400 Num Rows:    2640000 Hold-Out Accuracy: 0.6232 Loss: 0.7048 Time taken: 43.0s\n",
      "Epoch 12 Num Batches 4800 Num Rows:    2880000 Hold-Out Accuracy: 0.6179 Loss: 0.7074 Time taken: 43.0s\n",
      "Epoch 13 Num Batches 5200 Num Rows:    3120000 Hold-Out Accuracy: 0.6253 Loss: 0.7026 Time taken: 43.8s\n",
      "Epoch 14 Num Batches 5600 Num Rows:    3360000 Hold-Out Accuracy: 0.6269 Loss: 0.7013 Time taken: 44.0s\n",
      "Epoch 15 Num Batches 6000 Num Rows:    3600000 Hold-Out Accuracy: 0.6263 Loss: 0.7018 Time taken: 43.7s\n",
      "\n",
      "FINAL ACCURACY: 0.6263 FINAL LOSS: 0.7018\n",
      "SAVING MODEL TO: ./models/gen1-cov2d_alpha_2017_11_04_204810/model\n"
     ]
    }
   ],
   "source": [
    "# Exp:\n",
    "# Removed a fully connected layer\n",
    "# Added 4x2 and 2x4 COV layers\n",
    "# Large Batches (1000)\n",
    "# Moved learning from 0.001 to 0.01\n",
    "# --\n",
    "# Move back to 0.001, drop batch size to 250\n",
    "# --\n",
    "# Move CONV regularization from 1.0 to 0.1 (but keep dense the same)\n",
    "# --\n",
    "# Move activation=elu\n",
    "# --\n",
    "# Increase batch from 250 to 500, learning rate from 0.001 to 0.01\n",
    "# --\n",
    "# Add back other dense layer.  500 Batch, 0.001 learning rate.  Num epochs -> 30 to try to max out\n",
    "# --\n",
    "# Move 2nd to last dense layer from 12 to 24, increase batch to 800\n",
    "# -- Learning rate 0.001 to 0.01, last layer 24-48, decrease batch 800 to 600\n",
    "# \n",
    "\n",
    "training.train(graph_cov_comp, './models/gen1-cov2d_alpha_{}'.format(datetime.datetime.now().strftime(\"%Y_%m_%d_%H%M%S\")),\n",
    "               ds_gen1, batch_size=600, epoch_size=240000, num_epochs=15)"
   ]
  },
  {
   "cell_type": "markdown",
   "metadata": {},
   "source": [
    "-----------------"
   ]
  },
  {
   "cell_type": "markdown",
   "metadata": {},
   "source": [
    "# Gen 2"
   ]
  },
  {
   "cell_type": "code",
   "execution_count": null,
   "metadata": {},
   "outputs": [],
   "source": [
    "ds_gen2 = (training.DataLoader(frac_train=0.95, frac_test=0.05)\n",
    "           .add_dataset('random-2017-10-28-17:13:04', 100000)\n",
    "           .add_dataset('gen1-cov2d_beta_2017_10_29_150829-2017-10-29-16:57:41')\n",
    "           .load())\n",
    "\n",
    "# Use all the advanced data\n",
    "# 10,000 rows of gen-1 vs gen-1 data\n",
    "#key = 'gen-1-cov2d_beta_2017_10_22_142925'\n",
    "#features, targets, features_train, target_train, features_test, target_test = load_data('training_data/gen-1-cov2d_beta_2017_10_22_142925')"
   ]
  },
  {
   "cell_type": "code",
   "execution_count": null,
   "metadata": {},
   "outputs": [],
   "source": [
    "training.train(graph_cov_comp, './models/gen2-cov2d_beta_{}'.format(datetime.datetime.now().strftime(\"%Y_%m_%d_%H%M%S\")),\n",
    "               ds_gen2, batch_size=250, num_batches=20000)"
   ]
  },
  {
   "cell_type": "code",
   "execution_count": null,
   "metadata": {},
   "outputs": [],
   "source": []
  }
 ],
 "metadata": {
  "kernelspec": {
   "display_name": "Python 2",
   "language": "python",
   "name": "python2"
  },
  "language_info": {
   "codemirror_mode": {
    "name": "ipython",
    "version": 2
   },
   "file_extension": ".py",
   "mimetype": "text/x-python",
   "name": "python",
   "nbconvert_exporter": "python",
   "pygments_lexer": "ipython2",
   "version": "2.7.11"
  }
 },
 "nbformat": 4,
 "nbformat_minor": 2
}
