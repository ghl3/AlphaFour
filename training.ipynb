{
 "cells": [
  {
   "cell_type": "code",
   "execution_count": 1,
   "metadata": {
    "collapsed": true
   },
   "outputs": [],
   "source": [
    "from __future__ import division"
   ]
  },
  {
   "cell_type": "code",
   "execution_count": 2,
   "metadata": {
    "collapsed": true
   },
   "outputs": [],
   "source": [
    "import os\n",
    "import random\n",
    "import math\n",
    "import datetime\n",
    "import time"
   ]
  },
  {
   "cell_type": "code",
   "execution_count": 3,
   "metadata": {
    "collapsed": true
   },
   "outputs": [],
   "source": [
    "import numpy as np\n",
    "import pandas as pd"
   ]
  },
  {
   "cell_type": "code",
   "execution_count": 4,
   "metadata": {},
   "outputs": [
    {
     "name": "stderr",
     "output_type": "stream",
     "text": [
      "Using TensorFlow backend.\n"
     ]
    }
   ],
   "source": [
    "import tensorflow as tf\n",
    "from keras import backend as K"
   ]
  },
  {
   "cell_type": "code",
   "execution_count": 5,
   "metadata": {
    "collapsed": true
   },
   "outputs": [],
   "source": [
    "features = pd.read_csv('data/random/features_100.csv', names=range(42), dtype='float32')\n",
    "targets = pd.read_csv('data/random/targets_100.csv', names=['win', 'lose', 'draw'], dtype='float32')\n",
    "\n",
    "num_hold_out = 50000\n",
    "\n",
    "shuff = list(features.index)\n",
    "random.shuffle(shuff)\n",
    "\n",
    "holdout_features = features.loc[shuff[:num_hold_out]]\n",
    "holdout_targets = targets.loc[shuff[:num_hold_out]]\n",
    "\n",
    "features = features.loc[shuff[num_hold_out:]]\n",
    "targets = targets.loc[shuff[num_hold_out:]]"
   ]
  },
  {
   "cell_type": "code",
   "execution_count": 6,
   "metadata": {},
   "outputs": [
    {
     "data": {
      "text/html": [
       "<div>\n",
       "<style>\n",
       "    .dataframe thead tr:only-child th {\n",
       "        text-align: right;\n",
       "    }\n",
       "\n",
       "    .dataframe thead th {\n",
       "        text-align: left;\n",
       "    }\n",
       "\n",
       "    .dataframe tbody tr th {\n",
       "        vertical-align: top;\n",
       "    }\n",
       "</style>\n",
       "<table border=\"1\" class=\"dataframe\">\n",
       "  <thead>\n",
       "    <tr style=\"text-align: right;\">\n",
       "      <th></th>\n",
       "      <th>0</th>\n",
       "      <th>1</th>\n",
       "      <th>2</th>\n",
       "      <th>3</th>\n",
       "      <th>4</th>\n",
       "      <th>5</th>\n",
       "      <th>6</th>\n",
       "      <th>7</th>\n",
       "      <th>8</th>\n",
       "      <th>9</th>\n",
       "      <th>...</th>\n",
       "      <th>32</th>\n",
       "      <th>33</th>\n",
       "      <th>34</th>\n",
       "      <th>35</th>\n",
       "      <th>36</th>\n",
       "      <th>37</th>\n",
       "      <th>38</th>\n",
       "      <th>39</th>\n",
       "      <th>40</th>\n",
       "      <th>41</th>\n",
       "    </tr>\n",
       "  </thead>\n",
       "  <tbody>\n",
       "    <tr>\n",
       "      <th>178537</th>\n",
       "      <td>-1.0</td>\n",
       "      <td>0.0</td>\n",
       "      <td>0.0</td>\n",
       "      <td>0.0</td>\n",
       "      <td>0.0</td>\n",
       "      <td>0.0</td>\n",
       "      <td>0.0</td>\n",
       "      <td>0.0</td>\n",
       "      <td>0.0</td>\n",
       "      <td>0.0</td>\n",
       "      <td>...</td>\n",
       "      <td>0.0</td>\n",
       "      <td>0.0</td>\n",
       "      <td>0.0</td>\n",
       "      <td>0.0</td>\n",
       "      <td>0.0</td>\n",
       "      <td>0.0</td>\n",
       "      <td>0.0</td>\n",
       "      <td>0.0</td>\n",
       "      <td>0.0</td>\n",
       "      <td>0.0</td>\n",
       "    </tr>\n",
       "    <tr>\n",
       "      <th>51121</th>\n",
       "      <td>-1.0</td>\n",
       "      <td>1.0</td>\n",
       "      <td>0.0</td>\n",
       "      <td>0.0</td>\n",
       "      <td>0.0</td>\n",
       "      <td>0.0</td>\n",
       "      <td>-1.0</td>\n",
       "      <td>1.0</td>\n",
       "      <td>1.0</td>\n",
       "      <td>0.0</td>\n",
       "      <td>...</td>\n",
       "      <td>-1.0</td>\n",
       "      <td>-1.0</td>\n",
       "      <td>1.0</td>\n",
       "      <td>0.0</td>\n",
       "      <td>1.0</td>\n",
       "      <td>-1.0</td>\n",
       "      <td>1.0</td>\n",
       "      <td>-1.0</td>\n",
       "      <td>0.0</td>\n",
       "      <td>0.0</td>\n",
       "    </tr>\n",
       "    <tr>\n",
       "      <th>626406</th>\n",
       "      <td>0.0</td>\n",
       "      <td>0.0</td>\n",
       "      <td>0.0</td>\n",
       "      <td>0.0</td>\n",
       "      <td>0.0</td>\n",
       "      <td>0.0</td>\n",
       "      <td>0.0</td>\n",
       "      <td>0.0</td>\n",
       "      <td>0.0</td>\n",
       "      <td>0.0</td>\n",
       "      <td>...</td>\n",
       "      <td>0.0</td>\n",
       "      <td>0.0</td>\n",
       "      <td>0.0</td>\n",
       "      <td>0.0</td>\n",
       "      <td>0.0</td>\n",
       "      <td>0.0</td>\n",
       "      <td>0.0</td>\n",
       "      <td>0.0</td>\n",
       "      <td>0.0</td>\n",
       "      <td>0.0</td>\n",
       "    </tr>\n",
       "    <tr>\n",
       "      <th>1313851</th>\n",
       "      <td>-1.0</td>\n",
       "      <td>1.0</td>\n",
       "      <td>1.0</td>\n",
       "      <td>-1.0</td>\n",
       "      <td>-1.0</td>\n",
       "      <td>0.0</td>\n",
       "      <td>0.0</td>\n",
       "      <td>0.0</td>\n",
       "      <td>0.0</td>\n",
       "      <td>0.0</td>\n",
       "      <td>...</td>\n",
       "      <td>1.0</td>\n",
       "      <td>1.0</td>\n",
       "      <td>0.0</td>\n",
       "      <td>0.0</td>\n",
       "      <td>-1.0</td>\n",
       "      <td>1.0</td>\n",
       "      <td>0.0</td>\n",
       "      <td>0.0</td>\n",
       "      <td>0.0</td>\n",
       "      <td>0.0</td>\n",
       "    </tr>\n",
       "    <tr>\n",
       "      <th>1003753</th>\n",
       "      <td>1.0</td>\n",
       "      <td>0.0</td>\n",
       "      <td>0.0</td>\n",
       "      <td>0.0</td>\n",
       "      <td>0.0</td>\n",
       "      <td>0.0</td>\n",
       "      <td>1.0</td>\n",
       "      <td>-1.0</td>\n",
       "      <td>0.0</td>\n",
       "      <td>0.0</td>\n",
       "      <td>...</td>\n",
       "      <td>0.0</td>\n",
       "      <td>0.0</td>\n",
       "      <td>0.0</td>\n",
       "      <td>0.0</td>\n",
       "      <td>1.0</td>\n",
       "      <td>0.0</td>\n",
       "      <td>0.0</td>\n",
       "      <td>0.0</td>\n",
       "      <td>0.0</td>\n",
       "      <td>0.0</td>\n",
       "    </tr>\n",
       "  </tbody>\n",
       "</table>\n",
       "<p>5 rows × 42 columns</p>\n",
       "</div>"
      ],
      "text/plain": [
       "          0    1    2    3    4    5    6    7    8    9  ...    32   33   34  \\\n",
       "178537  -1.0  0.0  0.0  0.0  0.0  0.0  0.0  0.0  0.0  0.0 ...   0.0  0.0  0.0   \n",
       "51121   -1.0  1.0  0.0  0.0  0.0  0.0 -1.0  1.0  1.0  0.0 ...  -1.0 -1.0  1.0   \n",
       "626406   0.0  0.0  0.0  0.0  0.0  0.0  0.0  0.0  0.0  0.0 ...   0.0  0.0  0.0   \n",
       "1313851 -1.0  1.0  1.0 -1.0 -1.0  0.0  0.0  0.0  0.0  0.0 ...   1.0  1.0  0.0   \n",
       "1003753  1.0  0.0  0.0  0.0  0.0  0.0  1.0 -1.0  0.0  0.0 ...   0.0  0.0  0.0   \n",
       "\n",
       "          35   36   37   38   39   40   41  \n",
       "178537   0.0  0.0  0.0  0.0  0.0  0.0  0.0  \n",
       "51121    0.0  1.0 -1.0  1.0 -1.0  0.0  0.0  \n",
       "626406   0.0  0.0  0.0  0.0  0.0  0.0  0.0  \n",
       "1313851  0.0 -1.0  1.0  0.0  0.0  0.0  0.0  \n",
       "1003753  0.0  1.0  0.0  0.0  0.0  0.0  0.0  \n",
       "\n",
       "[5 rows x 42 columns]"
      ]
     },
     "execution_count": 6,
     "metadata": {},
     "output_type": "execute_result"
    }
   ],
   "source": [
    "features.head()"
   ]
  },
  {
   "cell_type": "code",
   "execution_count": 7,
   "metadata": {
    "scrolled": true
   },
   "outputs": [
    {
     "data": {
      "text/html": [
       "<div>\n",
       "<style>\n",
       "    .dataframe thead tr:only-child th {\n",
       "        text-align: right;\n",
       "    }\n",
       "\n",
       "    .dataframe thead th {\n",
       "        text-align: left;\n",
       "    }\n",
       "\n",
       "    .dataframe tbody tr th {\n",
       "        vertical-align: top;\n",
       "    }\n",
       "</style>\n",
       "<table border=\"1\" class=\"dataframe\">\n",
       "  <thead>\n",
       "    <tr style=\"text-align: right;\">\n",
       "      <th></th>\n",
       "      <th>win</th>\n",
       "      <th>lose</th>\n",
       "      <th>draw</th>\n",
       "    </tr>\n",
       "  </thead>\n",
       "  <tbody>\n",
       "    <tr>\n",
       "      <th>178537</th>\n",
       "      <td>1.0</td>\n",
       "      <td>0.0</td>\n",
       "      <td>0.0</td>\n",
       "    </tr>\n",
       "    <tr>\n",
       "      <th>51121</th>\n",
       "      <td>1.0</td>\n",
       "      <td>0.0</td>\n",
       "      <td>0.0</td>\n",
       "    </tr>\n",
       "    <tr>\n",
       "      <th>626406</th>\n",
       "      <td>0.0</td>\n",
       "      <td>0.0</td>\n",
       "      <td>1.0</td>\n",
       "    </tr>\n",
       "    <tr>\n",
       "      <th>1313851</th>\n",
       "      <td>0.0</td>\n",
       "      <td>1.0</td>\n",
       "      <td>0.0</td>\n",
       "    </tr>\n",
       "    <tr>\n",
       "      <th>1003753</th>\n",
       "      <td>0.0</td>\n",
       "      <td>1.0</td>\n",
       "      <td>0.0</td>\n",
       "    </tr>\n",
       "  </tbody>\n",
       "</table>\n",
       "</div>"
      ],
      "text/plain": [
       "         win  lose  draw\n",
       "178537   1.0   0.0   0.0\n",
       "51121    1.0   0.0   0.0\n",
       "626406   0.0   0.0   1.0\n",
       "1313851  0.0   1.0   0.0\n",
       "1003753  0.0   1.0   0.0"
      ]
     },
     "execution_count": 7,
     "metadata": {},
     "output_type": "execute_result"
    }
   ],
   "source": [
    "targets.head()"
   ]
  },
  {
   "cell_type": "code",
   "execution_count": 8,
   "metadata": {},
   "outputs": [
    {
     "data": {
      "text/plain": [
       "2121908"
      ]
     },
     "execution_count": 8,
     "metadata": {},
     "output_type": "execute_result"
    }
   ],
   "source": [
    "len(features)"
   ]
  },
  {
   "cell_type": "code",
   "execution_count": 9,
   "metadata": {
    "collapsed": true
   },
   "outputs": [],
   "source": [
    "def get_batch_iter(batch_size, batch_idx, dfs):\n",
    "    \n",
    "    length = len(dfs[0])\n",
    "    for df in dfs:\n",
    "        assert len(df) == length\n",
    "        \n",
    "    batches_per_df = int(math.ceil(length / batch_size))\n",
    "    \n",
    "    local_idx = batch_idx % batches_per_df\n",
    "    \n",
    "    start = local_idx*batch_size\n",
    "    end = (local_idx+1)*batch_size\n",
    "    \n",
    "    return [df.iloc[start:end] for df in dfs]\n",
    "\n",
    "\n",
    "def get_batch_random(batch_size, _, dfs):    \n",
    "    mask = pd.Series(dfs[0].index).sample(n=batch_size, replace=False)    \n",
    "    return [df.loc[mask] for df in dfs]\n",
    "\n",
    "\n",
    "def get_batch(batch_size, batch_idx, dfs, how='iter'):\n",
    "    if how == 'iter':\n",
    "        return get_batch_iter(batch_size, batch_idx, dfs)\n",
    "    elif how == 'random':\n",
    "        return get_batch_random(batch_size, batch_idx, dfs)\n",
    "    else:\n",
    "        raise Exception()"
   ]
  },
  {
   "cell_type": "code",
   "execution_count": 10,
   "metadata": {
    "collapsed": true
   },
   "outputs": [],
   "source": [
    "def run(graph, output_prefix, batch_size, num_batches, batch_how='iter', save_prefix=None):\n",
    "    \n",
    "    with tf.Session(graph=graph) as sess:\n",
    "    \n",
    "        K.set_session(sess)\n",
    "        sess.run(init_op)\n",
    "    \n",
    "        suffix = datetime.datetime.now().strftime(\"%Y_%m_%d_%H:%M:%S\")\n",
    "        name = '{}_{}'.format(output_prefix, suffix)\n",
    "        train_writer = tf.summary.FileWriter(name, sess.graph)\n",
    "        \n",
    "        print \"Running {}\".format(name)\n",
    "            \n",
    "        t = time.time()\n",
    "        delta_t = 0\n",
    "        \n",
    "        for i in range(num_batches):\n",
    "        \n",
    "            if i % 1000 == 0:\n",
    "                \n",
    "                delta_t = time.time() - t\n",
    "                t = time.time()\n",
    "                    \n",
    "                acc = acc_value.eval(feed_dict={board: holdout_features, outcome: holdout_targets}).mean()\n",
    "                print \"Batch {} Hold-Out Accuracy: {} Time taken: {:.1f}s\".format(i, acc, delta_t)\n",
    "\n",
    "                summary = sess.run(all_summaries, feed_dict={board: holdout_features, outcome: holdout_targets})\n",
    "                train_writer.add_summary(summary, i)            \n",
    "            \n",
    "            batch = get_batch(batch_size, i, [features, targets], how=batch_how)        \n",
    "            train_step.run(feed_dict={board: batch[0], outcome: batch[1]})\n",
    "        \n",
    "        print \"DONE TRAINING\"\n",
    "        print \"FINAL ACCURACY: {}\".format(acc)\n",
    "        train_writer.close()\n",
    "        \n",
    "        if save_prefix:\n",
    "            save_name = \"{}_{}\".format(save_prefix, suffix)\n",
    "            print \"SAVING TO: {}\".format(save_name)\n",
    "            os.makedirs(save_name)\n",
    "            tf.train.Saver().save(sess, save_name+'/model')"
   ]
  },
  {
   "cell_type": "markdown",
   "metadata": {},
   "source": [
    "## Attempt 1: Normal dense fully-conneected neural network"
   ]
  },
  {
   "cell_type": "code",
   "execution_count": null,
   "metadata": {},
   "outputs": [],
   "source": [
    "from keras.layers import Dense\n",
    "from keras.objectives import categorical_crossentropy\n",
    "from keras.metrics import categorical_accuracy as accuracy\n",
    "from keras.regularizers import l2\n",
    "\n",
    "# Create a graph to hold the model.\n",
    "graph = tf.Graph()\n",
    "\n",
    "# Create model in the graph.\n",
    "with graph.as_default():\n",
    "\n",
    "    # Keras layers can be called on TensorFlow tensors:\n",
    "    board = tf.placeholder(tf.float32, shape=(None, 42), name='board')\n",
    "    outcome = tf.placeholder(tf.float32, shape=(None, 3), name='outcome')\n",
    "\n",
    "    # Fully connected layers\n",
    "    x = Dense(512, activation='tanh')(board)    \n",
    "    x = Dense(512, activation='tanh')(x) \n",
    "    x = Dense(512, activation='tanh')(x)\n",
    "    x = Dense(48, activation='tanh')(x)\n",
    "\n",
    "    # output layer with 10 units and a softmax activation\n",
    "    preds = Dense(3, activation='softmax', name='preds')(x) \n",
    "        \n",
    "    with tf.name_scope('evaluation') as scope:\n",
    "        loss = tf.reduce_mean(categorical_crossentropy(outcome, preds))\n",
    "        tf.summary.scalar('loss', loss)    \n",
    "    \n",
    "        acc_value = accuracy(outcome, preds)\n",
    "        tf.summary.scalar('accuracy', tf.reduce_mean(acc_value))\n",
    "    \n",
    "    with tf.name_scope('training') as scope:\n",
    "        train_step = tf.train.AdamOptimizer(learning_rate=0.001).minimize(loss)\n",
    "    \n",
    "    # Initialize all variables\n",
    "    init_op = tf.global_variables_initializer()\n",
    "    \n",
    "    all_summaries = tf.summary.merge_all()"
   ]
  },
  {
   "cell_type": "code",
   "execution_count": null,
   "metadata": {
    "scrolled": true
   },
   "outputs": [
    {
     "name": "stdout",
     "output_type": "stream",
     "text": [
      "Running ./train/dense_2017_05_29_23:18:21\n",
      "Batch 0 Hold-Out Accuracy: 0.344199985266 Time taken: 0.0s\n",
      "Batch 1000 Hold-Out Accuracy: 0.577839970589 Time taken: 15.9s\n",
      "Batch 2000 Hold-Out Accuracy: 0.581120014191 Time taken: 16.6s\n",
      "Batch 3000 Hold-Out Accuracy: 0.588999986649 Time taken: 16.6s\n",
      "Batch 4000 Hold-Out Accuracy: 0.581700026989 Time taken: 16.7s\n",
      "Batch 5000 Hold-Out Accuracy: 0.590020000935 Time taken: 16.8s\n",
      "Batch 6000 Hold-Out Accuracy: 0.59636002779 Time taken: 17.3s\n",
      "Batch 7000 Hold-Out Accuracy: 0.595139980316 Time taken: 16.9s\n",
      "Batch 8000 Hold-Out Accuracy: 0.596759974957 Time taken: 16.9s\n",
      "Batch 9000 Hold-Out Accuracy: 0.603739976883 Time taken: 17.0s\n",
      "Batch 10000 Hold-Out Accuracy: 0.603219985962 Time taken: 16.9s\n",
      "Batch 11000 Hold-Out Accuracy: 0.602540016174 Time taken: 17.1s\n",
      "Batch 12000 Hold-Out Accuracy: 0.601279973984 Time taken: 16.9s\n",
      "Batch 13000 Hold-Out Accuracy: 0.60492002964 Time taken: 17.2s\n",
      "Batch 14000 Hold-Out Accuracy: 0.610700011253 Time taken: 16.9s\n",
      "Batch 15000 Hold-Out Accuracy: 0.615499973297 Time taken: 17.1s\n",
      "Batch 16000 Hold-Out Accuracy: 0.613300025463 Time taken: 16.8s\n",
      "Batch 17000 Hold-Out Accuracy: 0.61062002182 Time taken: 17.8s\n",
      "Batch 18000 Hold-Out Accuracy: 0.616219997406 Time taken: 17.2s\n",
      "Batch 19000 Hold-Out Accuracy: 0.617720007896 Time taken: 17.2s\n",
      "Batch 20000 Hold-Out Accuracy: 0.62077999115 Time taken: 17.2s\n",
      "Batch 21000 Hold-Out Accuracy: 0.621079981327 Time taken: 17.2s\n",
      "Batch 22000 Hold-Out Accuracy: 0.620220005512 Time taken: 17.0s\n",
      "Batch 23000 Hold-Out Accuracy: 0.624480009079 Time taken: 17.7s\n",
      "Batch 24000 Hold-Out Accuracy: 0.622240006924 Time taken: 18.7s\n",
      "Batch 25000 Hold-Out Accuracy: 0.62797999382 Time taken: 17.6s\n",
      "Batch 26000 Hold-Out Accuracy: 0.62647998333 Time taken: 19.2s\n",
      "Batch 27000 Hold-Out Accuracy: 0.6291000247 Time taken: 17.8s\n",
      "Batch 28000 Hold-Out Accuracy: 0.627200007439 Time taken: 18.5s\n",
      "Batch 29000 Hold-Out Accuracy: 0.629899978638 Time taken: 18.0s\n",
      "Batch 30000 Hold-Out Accuracy: 0.625720024109 Time taken: 18.9s\n",
      "Batch 31000 Hold-Out Accuracy: 0.627240002155 Time taken: 20.8s\n",
      "Batch 32000 Hold-Out Accuracy: 0.632000029087 Time taken: 17.9s\n",
      "Batch 33000 Hold-Out Accuracy: 0.629660010338 Time taken: 17.2s\n",
      "Batch 34000 Hold-Out Accuracy: 0.627879977226 Time taken: 17.3s\n",
      "Batch 35000 Hold-Out Accuracy: 0.629440009594 Time taken: 17.4s\n",
      "Batch 36000 Hold-Out Accuracy: 0.633599996567 Time taken: 17.6s\n",
      "Batch 37000 Hold-Out Accuracy: 0.63503998518 Time taken: 18.2s\n",
      "Batch 38000 Hold-Out Accuracy: 0.629620015621 Time taken: 17.5s\n",
      "Batch 39000 Hold-Out Accuracy: 0.630720019341 Time taken: 18.6s\n"
     ]
    }
   ],
   "source": [
    "run(graph, './train/dense', batch_size=250, num_batches=80000, save_prefix='./models/dense')"
   ]
  },
  {
   "cell_type": "markdown",
   "metadata": {},
   "source": [
    "## Attempt 2: A number of parallel CovNets"
   ]
  },
  {
   "cell_type": "code",
   "execution_count": null,
   "metadata": {},
   "outputs": [],
   "source": [
    "from keras.layers import Conv2D, Flatten\n",
    "from keras.layers.core import Reshape\n",
    "from keras.layers.merge import Concatenate\n",
    "\n",
    "# Create a graph to hold the model.\n",
    "graph = tf.Graph()\n",
    "\n",
    "# Create model in the graph.\n",
    "with graph.as_default():\n",
    "    \n",
    "    # Keras layers can be called on TensorFlow tensors:\n",
    "    board = tf.placeholder(tf.float32, shape=(None, 42), name='board') \n",
    "    outcome = tf.placeholder(tf.float32, shape=(None, 3), name='outcome')\n",
    "    \n",
    "    d1 = Dense(512, activation='tanh')(board) \n",
    "        \n",
    "    # The input data is [col0=[row_0, row_1, ...], col1=[row_0, row_1], ...]\n",
    "    rs = Reshape((7, 6, 1), input_shape=(42,))(board)    \n",
    "    \n",
    "    c1 = Flatten()(Conv2D(1, kernel_size=(4, 4), activation='relu', input_shape=(7, 6, 1))(rs))\n",
    "    c2 = Flatten()(Conv2D(1, kernel_size=(1, 4), activation='relu', input_shape=(7, 6, 1))(rs))\n",
    "    c3 = Flatten()(Conv2D(1, kernel_size=(4, 1), activation='relu', input_shape=(7, 6, 1))(rs))\n",
    "    c4 = Flatten()(Conv2D(1, kernel_size=(5, 5), activation='relu', input_shape=(7, 6, 1))(rs))\n",
    "    c5 = Flatten()(Conv2D(1, kernel_size=(3, 3), activation='relu', input_shape=(7, 6, 1))(rs))    \n",
    "    c6 = Flatten()(Conv2D(1, kernel_size=(2, 2), activation='relu', input_shape=(7, 6, 1))(rs))\n",
    "\n",
    "    merged = Concatenate()([d1, c1, c2, c3, c4, c5, c6])\n",
    "    \n",
    "    x = Dense(256, activation='tanh')(merged)         \n",
    "    x = Dense(128, activation='tanh')(x)    \n",
    "    x = Dense(12, activation='tanh')(x)\n",
    "    \n",
    "    # output layer with 10 units and a softmax activation\n",
    "    preds = Dense(3, activation='softmax', name='preds')(x) \n",
    "    \n",
    "    with tf.name_scope('evaluation') as scope:\n",
    "        loss = tf.reduce_mean(categorical_crossentropy(outcome, preds))\n",
    "        tf.summary.scalar('loss', loss)\n",
    "        \n",
    "        acc_value = accuracy(outcome, preds)\n",
    "        tf.summary.scalar('accuracy', tf.reduce_mean(acc_value))\n",
    "    \n",
    "    with tf.name_scope('training') as scope:\n",
    "        train_step = tf.train.AdamOptimizer(learning_rate=0.001).minimize(loss)    \n",
    "    \n",
    "    # Initialize all variables\n",
    "    init_op = tf.global_variables_initializer()\n",
    "    \n",
    "    all_summaries = tf.summary.merge_all()"
   ]
  },
  {
   "cell_type": "code",
   "execution_count": null,
   "metadata": {
    "scrolled": true
   },
   "outputs": [],
   "source": [
    "sess = run(graph, './train/conv2d', batch_size=250, num_batches=80000, save_prefix='./models/cov2d')"
   ]
  },
  {
   "cell_type": "code",
   "execution_count": null,
   "metadata": {
    "collapsed": true
   },
   "outputs": [],
   "source": []
  },
  {
   "cell_type": "code",
   "execution_count": null,
   "metadata": {
    "collapsed": true
   },
   "outputs": [],
   "source": []
  }
 ],
 "metadata": {
  "kernelspec": {
   "display_name": "Python 2",
   "language": "python",
   "name": "python2"
  },
  "language_info": {
   "codemirror_mode": {
    "name": "ipython",
    "version": 2
   },
   "file_extension": ".py",
   "mimetype": "text/x-python",
   "name": "python",
   "nbconvert_exporter": "python",
   "pygments_lexer": "ipython2",
   "version": "2.7.11"
  }
 },
 "nbformat": 4,
 "nbformat_minor": 2
}
