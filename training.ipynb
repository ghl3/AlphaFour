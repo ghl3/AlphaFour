{
 "cells": [
  {
   "cell_type": "code",
   "execution_count": null,
   "metadata": {},
   "outputs": [],
   "source": [
    "from __future__ import division"
   ]
  },
  {
   "cell_type": "code",
   "execution_count": null,
   "metadata": {},
   "outputs": [],
   "source": [
    "import os\n",
    "import random\n",
    "import math\n",
    "import datetime\n",
    "import time"
   ]
  },
  {
   "cell_type": "code",
   "execution_count": null,
   "metadata": {},
   "outputs": [],
   "source": [
    "import matplotlib.pyplot as plt\n",
    "%matplotlib inline"
   ]
  },
  {
   "cell_type": "code",
   "execution_count": null,
   "metadata": {},
   "outputs": [],
   "source": [
    "import numpy as np\n",
    "import pandas as pd"
   ]
  },
  {
   "cell_type": "code",
   "execution_count": null,
   "metadata": {},
   "outputs": [],
   "source": [
    "import tensorflow as tf\n",
    "from keras import backend as K\n",
    "from keras import regularizers"
   ]
  },
  {
   "cell_type": "code",
   "execution_count": null,
   "metadata": {},
   "outputs": [],
   "source": [
    "from keras.layers import Dense\n",
    "from keras.objectives import categorical_crossentropy\n",
    "from keras.metrics import categorical_accuracy as accuracy\n",
    "from keras.regularizers import l2\n",
    "from keras.layers import Conv2D, Flatten\n",
    "from keras.layers.core import Reshape\n",
    "from keras.layers.merge import Concatenate"
   ]
  },
  {
   "cell_type": "code",
   "execution_count": null,
   "metadata": {},
   "outputs": [],
   "source": [
    "%load_ext autoreload\n",
    "\n",
    "%autoreload 1\n",
    "\n",
    "%aimport training"
   ]
  },
  {
   "cell_type": "code",
   "execution_count": 8,
   "metadata": {},
   "outputs": [
    {
     "name": "stdout",
     "output_type": "stream",
     "text": [
      "Foo\n"
     ]
    }
   ],
   "source": [
    "print \"Foo\""
   ]
  },
  {
   "cell_type": "markdown",
   "metadata": {},
   "source": [
    "# Architectures"
   ]
  },
  {
   "cell_type": "markdown",
   "metadata": {},
   "source": [
    "## Arch 1: Normal dense fully-connected neural network"
   ]
  },
  {
   "cell_type": "code",
   "execution_count": null,
   "metadata": {},
   "outputs": [],
   "source": [
    "# Create a graph to hold the model.\n",
    "graph_dense = tf.Graph()\n",
    "\n",
    "# Create model in the graph.\n",
    "with graph_dense.as_default():\n",
    "\n",
    "    # Keras layers can be called on TensorFlow tensors:\n",
    "    board = tf.placeholder(tf.float32, shape=(None, 42), name='board')\n",
    "    outcome = tf.placeholder(tf.float32, shape=(None, 3), name='outcome')\n",
    "\n",
    "    # Fully connected layers\n",
    "    \n",
    "    x = Dense(2048,\n",
    "              activation='relu',\n",
    "              kernel_regularizer=regularizers.l2(0.1),\n",
    "              bias_regularizer=regularizers.l2(0.1),\n",
    "              kernel_initializer='random_uniform',\n",
    "              bias_initializer='zeros')(board)\n",
    "    \n",
    "    x = Dense(1024,\n",
    "              activation='relu',\n",
    "              kernel_regularizer=regularizers.l2(0.1),\n",
    "              bias_regularizer=regularizers.l2(0.1),\n",
    "              kernel_initializer='random_uniform',\n",
    "              bias_initializer='zeros')(x)\n",
    "   \n",
    "    x = Dense(512,\n",
    "              activation='relu',\n",
    "              kernel_regularizer=regularizers.l2(0.1),\n",
    "              bias_regularizer=regularizers.l2(0.1),\n",
    "              kernel_initializer='random_uniform',\n",
    "              bias_initializer='zeros')(x)\n",
    "    \n",
    "    x = Dense(48,\n",
    "              activation='relu',\n",
    "              kernel_regularizer=regularizers.l2(0.1),\n",
    "              bias_regularizer=regularizers.l2(0.1),\n",
    "              kernel_initializer='random_uniform',\n",
    "              bias_initializer='zeros')(x)\n",
    "\n",
    "    # output layer with 10 units and a softmax activation\n",
    "    preds = Dense(3, activation='softmax', name='preds')(x) \n",
    "        \n",
    "    with tf.name_scope('evaluation') as scope:\n",
    "        loss = tf.reduce_mean(categorical_crossentropy(outcome, preds), name='loss')\n",
    "        tf.summary.scalar('holdout_loss', loss)    \n",
    "    \n",
    "        acc_value = tf.identity(accuracy(outcome, preds), name='accuracy')\n",
    "        tf.summary.scalar('holdout_accuracy', tf.reduce_mean(acc_value))\n",
    "    \n",
    "    with tf.name_scope('training') as scope:\n",
    "        train_step = tf.train.AdamOptimizer(learning_rate=0.01).minimize(loss, name='train_step')\n",
    "    \n",
    "    # Initialize all variables\n",
    "    init_op = tf.global_variables_initializer()\n",
    "    \n",
    "    all_summaries = tf.summary.merge_all()"
   ]
  },
  {
   "cell_type": "markdown",
   "metadata": {},
   "source": [
    "## Arch 2: Pure CovNet"
   ]
  },
  {
   "cell_type": "code",
   "execution_count": null,
   "metadata": {
    "scrolled": false
   },
   "outputs": [],
   "source": [
    "# Create a graph to hold the model.\n",
    "graph_cov_pure = tf.Graph()\n",
    "\n",
    "# Create model in the graph.\n",
    "with graph_cov_pure.as_default():\n",
    "    \n",
    "    # Keras layers can be called on TensorFlow tensors:\n",
    "    board = tf.placeholder(tf.float32, shape=(None, 42), name='board') \n",
    "    outcome = tf.placeholder(tf.float32, shape=(None, 3), name='outcome')    \n",
    "    \n",
    "    # The input data is [col0=[row_0, row_1, ...], col1=[row_0, row_1], ...]\n",
    "    rs = Reshape((7, 6, 1), input_shape=(42,))(board)\n",
    "    \n",
    "    conv_args = dict(\n",
    "        use_bias=True,\n",
    "        activation='relu',\n",
    "        kernel_initializer='random_uniform',\n",
    "        bias_initializer='zeros',\n",
    "        kernel_regularizer=regularizers.l2(0.01),\n",
    "        input_shape=(7, 6, 1),\n",
    "        padding='valid'\n",
    "    )\n",
    "    \n",
    "    # We use a few parallel covents, that we combine in the end        \n",
    "    c1 = (Conv2D(8,  kernel_size=(1, 2), **conv_args)(rs))\n",
    "    c2 = (Conv2D(16, kernel_size=(2, 1), **conv_args)(c1))\n",
    "    c3 = (Conv2D(32, kernel_size=(3, 3), **conv_args)(c2))\n",
    "    #c4 = (Conv2D(64, kernel_size=(6, 6), **conv_args)(c3))\n",
    "    \n",
    "    dense_args = dict(\n",
    "        use_bias=True,\n",
    "        activation='relu',\n",
    "        kernel_initializer='random_uniform',\n",
    "        bias_initializer='zeros',\n",
    "        kernel_regularizer=regularizers.l2(0.01),\n",
    "        bias_regularizer=regularizers.l2(0.01),    \n",
    "    )\n",
    "    \n",
    "    d = Dense(64,  **dense_args)(Flatten()(c3))         \n",
    "    \n",
    "    # output layer with 10 units and a softmax activation\n",
    "    preds = Dense(3, activation='softmax', name='preds')(d) \n",
    "    \n",
    "    with tf.name_scope('evaluation') as scope:\n",
    "        loss = tf.reduce_mean(categorical_crossentropy(outcome, preds), name='loss')\n",
    "        tf.summary.scalar('holdout_loss', loss)\n",
    "        \n",
    "        acc_value = tf.identity(accuracy(outcome, preds), name='accuracy')\n",
    "        tf.summary.scalar('holdout_accuracy', tf.reduce_mean(acc_value))\n",
    "    \n",
    "    with tf.name_scope('training') as scope:\n",
    "        train_step = tf.train.AdamOptimizer(learning_rate=0.01).minimize(loss, name='train_step')    \n",
    "    \n",
    "    # Initialize all variables\n",
    "    init_op = tf.global_variables_initializer()\n",
    "    \n",
    "    all_summaries = tf.summary.merge_all()"
   ]
  },
  {
   "cell_type": "markdown",
   "metadata": {},
   "source": [
    "## Arch 3: Complicated CovNet"
   ]
  },
  {
   "cell_type": "code",
   "execution_count": 13,
   "metadata": {},
   "outputs": [],
   "source": [
    "# Create a graph to hold the model.\n",
    "graph_cov_comp = tf.Graph()\n",
    "\n",
    "# Create model in the graph.\n",
    "with graph_cov_comp.as_default():\n",
    "    \n",
    "    # Keras layers can be called on TensorFlow tensors:\n",
    "    board = tf.placeholder(tf.float32, shape=(None, 42), name='board') \n",
    "    outcome = tf.placeholder(tf.float32, shape=(None, 3), name='outcome')    \n",
    "    \n",
    "    # The input data is [col0=[row_0, row_1, ...], col1=[row_0, row_1], ...]\n",
    "    rs = Reshape((7, 6, 1), input_shape=(42,))(board)\n",
    "    \n",
    "    conv_args = dict(\n",
    "        use_bias=True,\n",
    "        activation='relu',\n",
    "        kernel_initializer='random_uniform',\n",
    "        bias_initializer='zeros',\n",
    "        kernel_regularizer=regularizers.l1_l2(1.0),\n",
    "        bias_regularizer=regularizers.l1_l2(1.0),\n",
    "#        input_shape=(7, 6, 1),\n",
    "        padding='valid'\n",
    "    )\n",
    "    \n",
    "    # We use a few parallel covents, that we combine in the end        \n",
    "    ca = Flatten()(Conv2D(12, kernel_size=(5, 5), **conv_args)(rs))\n",
    "    cb = Flatten()(Conv2D(12, kernel_size=(4, 4), **conv_args)(rs))\n",
    "    cc = Flatten()(Conv2D(12, kernel_size=(3, 3), **conv_args)(rs))\n",
    "\n",
    "    cg = Flatten()(Conv2D(8, kernel_size=(6, 1), **conv_args)(rs))\n",
    "    ch = Flatten()(Conv2D(8, kernel_size=(1, 6), **conv_args)(rs))\n",
    "    \n",
    "    cd = Flatten()(Conv2D(4, kernel_size=(1, 4), **conv_args)(rs))\n",
    "    ce = Flatten()(Conv2D(4, kernel_size=(4, 1), **conv_args)(rs))\n",
    "    cf = Flatten()(Conv2D(4, kernel_size=(2, 2), **conv_args)(rs))\n",
    "\n",
    "    dense_args = dict(\n",
    "        use_bias=True,\n",
    "        activation='relu',\n",
    "        kernel_initializer='random_uniform',\n",
    "        bias_initializer='zeros',\n",
    "        kernel_regularizer=regularizers.l1_l2(1.0),\n",
    "        bias_regularizer=regularizers.l1_l2(1.0),    \n",
    "    )\n",
    "    \n",
    "    d1 = Dense(512, **dense_args)(board)\n",
    "    \n",
    "    merged = Concatenate()([d1, ca, cb, cc, cd, ce, cf, cg, ch])    \n",
    "        \n",
    "    x = Dense(512, **dense_args)(merged)         \n",
    "    x = Dense(256, **dense_args)(x)         \n",
    "    x = Dense(128, **dense_args)(x)    \n",
    "    x = Dense(12,  **dense_args)(x)\n",
    "    \n",
    "    # output layer with 10 units and a softmax activation\n",
    "    preds = Dense(3, activation='softmax', name='preds')(x) \n",
    "    \n",
    "    with tf.name_scope('evaluation') as scope:\n",
    "        loss = tf.reduce_mean(categorical_crossentropy(outcome, preds), name='loss')\n",
    "        tf.summary.scalar('holdout_loss', loss)\n",
    "        \n",
    "        acc = tf.identity(accuracy(outcome, preds), name='accuracy')\n",
    "        tf.summary.scalar('holdout_accuracy', tf.reduce_mean(acc))\n",
    "    \n",
    "    with tf.name_scope('training') as scope:\n",
    "        train_step = tf.train.AdamOptimizer(learning_rate=0.0001).minimize(loss, name='train_step')    \n",
    "    \n",
    "    # Initialize all variables\n",
    "    init_op = tf.global_variables_initializer()\n",
    "    \n",
    "    all_summaries = tf.summary.merge_all()"
   ]
  },
  {
   "cell_type": "markdown",
   "metadata": {},
   "source": [
    "-----------------------"
   ]
  },
  {
   "cell_type": "markdown",
   "metadata": {},
   "source": [
    "# Gen 1"
   ]
  },
  {
   "cell_type": "code",
   "execution_count": 19,
   "metadata": {},
   "outputs": [],
   "source": [
    "#simulations/random-2017-10-28-17:13:04\n",
    "\n",
    "# 'random-2017-10-21-13:41:47'\n",
    "# 'random-2017-10-28-17:13:04'\n",
    "\n",
    "ds_gen1 = (training.DataLoader(frac_train=0.95, frac_test=0.05)\n",
    "           .add_dataset('random-2017-10-28-17:13:04')\n",
    "           .load())"
   ]
  },
  {
   "cell_type": "markdown",
   "metadata": {},
   "source": [
    "### Fully Connected"
   ]
  },
  {
   "cell_type": "code",
   "execution_count": null,
   "metadata": {
    "scrolled": true
   },
   "outputs": [],
   "source": [
    "training.train(graph_dense, './models/dense_{}'.format(datetime.datetime.now().strftime(\"%Y_%m_%d_%H%M%S\")),\n",
    "               ds_gen1,  batch_size=500, num_batches=10000)"
   ]
  },
  {
   "cell_type": "markdown",
   "metadata": {},
   "source": [
    "### Covnet"
   ]
  },
  {
   "cell_type": "code",
   "execution_count": null,
   "metadata": {},
   "outputs": [],
   "source": [
    "training.train(graph_cov_pure, './models/cov_pure_{}'.format(datetime.datetime.now().strftime(\"%Y_%m_%d_%H%M%S\")),\n",
    "               ds_gen1,  batch_size=200, num_batches=20000)"
   ]
  },
  {
   "cell_type": "markdown",
   "metadata": {},
   "source": [
    "\n",
    "### Advanced Covnet"
   ]
  },
  {
   "cell_type": "code",
   "execution_count": null,
   "metadata": {},
   "outputs": [],
   "source": [
    "# Best: gen1-cov2d_beta_2017_10_29_150829\n",
    "# Dataset: 'random-2017-10-28-17:13:04'\n",
    "# batch_size=500, learning_rate=0.001, regularization=(l1_l2, 1.0) (regularization of 0.1 seems to have the same effect...)\n",
    "# Include all convolutions (adding cc, cf, cg, ch)\n",
    "# Include 4 layers of dense: 512, 256, 128, 12\n",
    "\n",
    "training.train(graph_cov_comp, './models/gen1-cov2d_alpha_{}'.format(datetime.datetime.now().strftime(\"%Y_%m_%d_%H%M%S\")),\n",
    "               ds_gen1, batch_size=500, num_batches=15000)"
   ]
  },
  {
   "cell_type": "markdown",
   "metadata": {},
   "source": [
    "-----------------"
   ]
  },
  {
   "cell_type": "markdown",
   "metadata": {},
   "source": [
    "# Gen 2"
   ]
  },
  {
   "cell_type": "code",
   "execution_count": 17,
   "metadata": {},
   "outputs": [],
   "source": [
    "ds_gen2 = (training.DataLoader(frac_train=0.95, frac_test=0.05)\n",
    "           .add_dataset('random-2017-10-28-17:13:04', 100000)\n",
    "           .add_dataset('gen1-cov2d_beta_2017_10_29_150829-2017-10-29-16:57:41')\n",
    "           .load())\n",
    "\n",
    "# Use all the advanced data\n",
    "# 10,000 rows of gen-1 vs gen-1 data\n",
    "#key = 'gen-1-cov2d_beta_2017_10_22_142925'\n",
    "#features, targets, features_train, target_train, features_test, target_test = load_data('training_data/gen-1-cov2d_beta_2017_10_22_142925')"
   ]
  },
  {
   "cell_type": "code",
   "execution_count": 20,
   "metadata": {},
   "outputs": [
    {
     "name": "stdout",
     "output_type": "stream",
     "text": [
      "Running ./models/gen2-cov2d_beta_2017_10_30_201357\n",
      "Batch        0 Hold-Out Accuracy: 0.4427 (84851/191675) Loss: 1.0982 Time taken: 0.0s\n",
      "Batch     1000 Hold-Out Accuracy: 0.5884 (112789/191675) Loss: 0.7281 Time taken: 59.2s\n",
      "Batch     2000 Hold-Out Accuracy: 0.5950 (114050/191675) Loss: 0.7190 Time taken: 59.3s\n",
      "Batch     3000 Hold-Out Accuracy: 0.5969 (114412/191675) Loss: 0.7154 Time taken: 65.7s\n",
      "Batch     4000 Hold-Out Accuracy: 0.6068 (116303/191675) Loss: 0.7089 Time taken: 65.9s\n",
      "Batch     5000 Hold-Out Accuracy: 0.6146 (117804/191675) Loss: 0.7024 Time taken: 61.3s\n",
      "Batch     6000 Hold-Out Accuracy: 0.6191 (118671/191675) Loss: 0.6996 Time taken: 68.4s\n",
      "Batch     7000 Hold-Out Accuracy: 0.6234 (119481/191675) Loss: 0.6942 Time taken: 66.7s\n",
      "Batch     8000 Hold-Out Accuracy: 0.6273 (120229/191675) Loss: 0.6907 Time taken: 60.7s\n",
      "Batch     9000 Hold-Out Accuracy: 0.6291 (120575/191675) Loss: 0.6882 Time taken: 61.6s\n",
      "Batch    10000 Hold-Out Accuracy: 0.6319 (121116/191675) Loss: 0.6855 Time taken: 59.5s\n",
      "Batch    11000 Hold-Out Accuracy: 0.6345 (121619/191675) Loss: 0.6813 Time taken: 62.2s\n",
      "Batch    12000 Hold-Out Accuracy: 0.6365 (122007/191675) Loss: 0.6806 Time taken: 58.1s\n",
      "Batch    13000 Hold-Out Accuracy: 0.6361 (121934/191675) Loss: 0.6800 Time taken: 58.2s\n",
      "Batch    14000 Hold-Out Accuracy: 0.6393 (122532/191675) Loss: 0.6771 Time taken: 62.9s\n",
      "Batch    15000 Hold-Out Accuracy: 0.6400 (122676/191675) Loss: 0.6746 Time taken: 66.6s\n",
      "Batch    16000 Hold-Out Accuracy: 0.6370 (122100/191675) Loss: 0.6759 Time taken: 56.2s\n",
      "Batch    17000 Hold-Out Accuracy: 0.6419 (123036/191675) Loss: 0.6717 Time taken: 65.3s\n",
      "Batch    18000 Hold-Out Accuracy: 0.6424 (123130/191675) Loss: 0.6708 Time taken: 59.4s\n",
      "Batch    19000 Hold-Out Accuracy: 0.6422 (123089/191675) Loss: 0.6711 Time taken: 58.7s\n",
      "\n",
      "DONE TRAINING\n",
      "FINAL ACCURACY: 0.6422 FINAL LOSS: 0.6711\n",
      "SAVING TO: ./models/gen2-cov2d_beta_2017_10_30_201357/model\n"
     ]
    }
   ],
   "source": [
    "training.train(graph_cov_comp, './models/gen2-cov2d_beta_{}'.format(datetime.datetime.now().strftime(\"%Y_%m_%d_%H%M%S\")),\n",
    "               ds_gen2, batch_size=250, num_batches=20000)"
   ]
  },
  {
   "cell_type": "code",
   "execution_count": null,
   "metadata": {},
   "outputs": [],
   "source": []
  }
 ],
 "metadata": {
  "kernelspec": {
   "display_name": "connectfour",
   "language": "python",
   "name": "connectfour"
  },
  "language_info": {
   "codemirror_mode": {
    "name": "ipython",
    "version": 2
   },
   "file_extension": ".py",
   "mimetype": "text/x-python",
   "name": "python",
   "nbconvert_exporter": "python",
   "pygments_lexer": "ipython2",
   "version": "2.7.11"
  }
 },
 "nbformat": 4,
 "nbformat_minor": 2
}
