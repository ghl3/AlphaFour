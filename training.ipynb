{
 "cells": [
  {
   "cell_type": "code",
   "execution_count": null,
   "metadata": {},
   "outputs": [],
   "source": [
    "from __future__ import division"
   ]
  },
  {
   "cell_type": "code",
   "execution_count": null,
   "metadata": {},
   "outputs": [],
   "source": [
    "import os\n",
    "import random\n",
    "import math\n",
    "import datetime\n",
    "import time"
   ]
  },
  {
   "cell_type": "code",
   "execution_count": null,
   "metadata": {},
   "outputs": [],
   "source": [
    "import numpy as np\n",
    "import pandas as pd"
   ]
  },
  {
   "cell_type": "code",
   "execution_count": 4,
   "metadata": {},
   "outputs": [
    {
     "name": "stderr",
     "output_type": "stream",
     "text": [
      "Using TensorFlow backend.\n"
     ]
    }
   ],
   "source": [
    "import tensorflow as tf\n",
    "from keras import backend as K\n",
    "from keras import regularizers"
   ]
  },
  {
   "cell_type": "code",
   "execution_count": 5,
   "metadata": {},
   "outputs": [],
   "source": [
    "from training import *"
   ]
  },
  {
   "cell_type": "code",
   "execution_count": 6,
   "metadata": {},
   "outputs": [],
   "source": [
    "#def load_data(prefix):\n",
    "#    features = pd.read_csv('{}/features.csv'.format(prefix),\n",
    "#                       names=['game_idx', 'turn_idx'] + range(42),\n",
    "#                       dtype='int')\n",
    "#    \n",
    "#    targets = pd.read_csv('{}/targets.csv'.format(prefix),\n",
    "#                      names=['game_idx', 'turn_idx', 'win', 'lose', 'draw'],\n",
    "#                      dtype='int')\n",
    "#    \n",
    "#    # Split into training and holdout,\n",
    "#    # ensuring separate games \n",
    "#\n",
    "#    train_games = pd.Series(features.game_idx.unique()).sample(frac=0.8).values #games = #features.game_idx.unique()\n",
    "#\n",
    "#    features_train = features[features.game_idx.isin(train_games)].drop(['game_idx', 'turn_idx'], axis=1)\n",
    "#    targets_train = targets[targets.game_idx.isin(train_games)].drop(['game_idx', 'turn_idx'], axis=1)\n",
    "#\n",
    "#    tidx = list(features_train.index)\n",
    "#    random.shuffle(tidx)\n",
    "#    features_train = features_train.loc[tidx]\n",
    "#    targets_train = targets_train.loc[tidx]\n",
    "#\n",
    "#    features_test = features[~features.game_idx.isin(train_games)].drop(['game_idx', 'turn_idx'], axis=1)\n",
    "#    targets_test = targets[~targets.game_idx.isin(train_games)].drop(['game_idx', 'turn_idx'], axis=1)\n",
    "#   \n",
    "#    \n",
    "#    return features_train, targets_train, features_test, targets_test"
   ]
  },
  {
   "cell_type": "code",
   "execution_count": 7,
   "metadata": {},
   "outputs": [],
   "source": [
    "#def get_batch_iter(batch_size, batch_idx, dfs):\n",
    "#    \n",
    "#    length = len(dfs[0])\n",
    "#    for df in dfs:\n",
    "#        assert len(df) == length\n",
    "#        \n",
    "#    batches_per_df = int(math.ceil(length / batch_size))\n",
    "#    \n",
    "#    local_idx = batch_idx % batches_per_df\n",
    "#    \n",
    "#    start = local_idx*batch_size\n",
    "#    end = (local_idx+1)*batch_size\n",
    "#    \n",
    "#    return [df.iloc[start:end] for df in dfs]\n",
    "#\n",
    "#\n",
    "#def get_batch_random(batch_size, _, dfs):    \n",
    "#    mask = pd.Series(dfs[0].index).sample(n=batch_size, replace=False)    \n",
    "#    return [df.loc[mask] for df in dfs]\n",
    "#\n",
    "#def get_batch(batch_size, batch_idx, dfs, how='iter'):\n",
    "#    if how == 'iter':\n",
    "#        return get_batch_iter(batch_size, batch_idx, dfs)\n",
    "#    elif how == 'random':\n",
    "#        return get_batch_random(batch_size, batch_idx, dfs)\n",
    "#    else:\n",
    "#        raise Exception()"
   ]
  },
  {
   "cell_type": "code",
   "execution_count": 8,
   "metadata": {},
   "outputs": [],
   "source": [
    "def run(graph, output_prefix, batch_size, num_batches, batch_how='iter'):\n",
    "    \n",
    "    with tf.Session(graph=graph) as sess:\n",
    "    \n",
    "        K.set_session(sess)\n",
    "        sess.run(init_op)\n",
    "    \n",
    "        #suffix = datetime.datetime.now().strftime(\"%Y_%m_%d_%H:%M:%S\")\n",
    "        #name = output_prefix #'{}_{}'.format(output_prefix, suffix)\n",
    "        #save_name = \"{}/model\".format(name) #, suffix)\n",
    "\n",
    "        train_writer = tf.summary.FileWriter(output_prefix, sess.graph)\n",
    "        \n",
    "        print \"Running {}\".format(output_prefix)\n",
    "            \n",
    "        t = time.time()\n",
    "        delta_t = 0\n",
    "        \n",
    "        for i in range(num_batches):\n",
    "        \n",
    "            if i % 1000 == 0:\n",
    "                \n",
    "                delta_t = time.time() - t\n",
    "                t = time.time()\n",
    "                    \n",
    "                acc = acc_value.eval(feed_dict={board: features_test, outcome: targets_test}).mean()\n",
    "                print \"Batch {} Hold-Out Accuracy: {} Time taken: {:.1f}s\".format(i, acc, delta_t)\n",
    "\n",
    "                summary = sess.run(all_summaries, feed_dict={board: features_test, outcome: targets_test})\n",
    "                train_writer.add_summary(summary, i)            \n",
    "            \n",
    "            batch = get_batch(batch_size, i, [features_train, targets_train], how=batch_how)        \n",
    "            train_step.run(feed_dict={board: batch[0], outcome: batch[1]})\n",
    "        \n",
    "        print \"DONE TRAINING\"\n",
    "        print \"FINAL ACCURACY: {}\".format(acc)\n",
    "        train_writer.close()\n",
    "        \n",
    "        model_dir = '{}/model'.format(output_prefix)\n",
    "        print \"SAVING TO: {}\".format(model_dir)\n",
    "        tf.train.Saver().save(sess, model_dir)"
   ]
  },
  {
   "cell_type": "markdown",
   "metadata": {},
   "source": [
    "# Gen 1"
   ]
  },
  {
   "cell_type": "code",
   "execution_count": 9,
   "metadata": {},
   "outputs": [],
   "source": [
    "# 100,000 rows of random vs random (gen 0) data\n",
    "key = 'random-2017-10-21-13:41:47'\n",
    "\n",
    "# 5000 rows of covnet vs covnet (gen 1) data\n",
    "#key = 'gen-1-2017-10-22-133109'"
   ]
  },
  {
   "cell_type": "code",
   "execution_count": 10,
   "metadata": {},
   "outputs": [],
   "source": [
    "#features = pd.read_csv('training_data/{}/features.csv'.format(key),\n",
    "#                       names=['game_idx', 'turn_idx'] + range(42),\n",
    "#                       dtype='int')\n",
    "#\n",
    "#targets = pd.read_csv('training_data/{}/targets.csv'.format(key),\n",
    "#                      names=['game_idx', 'turn_idx', 'win', 'lose', 'draw'],\n",
    "#                      dtype='int')"
   ]
  },
  {
   "cell_type": "code",
   "execution_count": 11,
   "metadata": {},
   "outputs": [],
   "source": [
    "# Split into training and holdout,\n",
    "# ensuring separate games \n",
    "\n",
    "#train_games = pd.Series(features.game_idx.unique()).sample(frac=0.8).values #games = #features.game_idx.unique()\n",
    "\n",
    "#features_train = features[features.game_idx.isin(train_games)].drop(['game_idx', 'turn_idx'], axis=1)\n",
    "#targets_train = targets[targets.game_idx.isin(train_games)].drop(['game_idx', 'turn_idx'], axis=1)\n",
    "\n",
    "#tidx = list(features_train.index)\n",
    "#random.shuffle(tidx)\n",
    "#features_train = features_train.loc[tidx]\n",
    "#targets_train = targets_train.loc[tidx]\n",
    "\n",
    "#features_test = features[~features.game_idx.isin(train_games)].drop(['game_idx', 'turn_idx'], axis=1)\n",
    "#targets_test = targets[~targets.game_idx.isin(train_games)].drop(['game_idx', 'turn_idx'], axis=1)"
   ]
  },
  {
   "cell_type": "code",
   "execution_count": 12,
   "metadata": {},
   "outputs": [],
   "source": [
    "features_train, targets_train, features_test, targets_test = load_data('training_data/{}'.format(key))"
   ]
  },
  {
   "cell_type": "code",
   "execution_count": 13,
   "metadata": {},
   "outputs": [
    {
     "name": "stdout",
     "output_type": "stream",
     "text": [
      "1656083 413338\n",
      "1656083 413338\n",
      "0.499966129415\n",
      "0.4734454611\n",
      "0.0265884094857\n"
     ]
    }
   ],
   "source": [
    "print len(features_train), len(features_test)\n",
    "print len(targets_train), len(targets_test)\n",
    "\n",
    "print targets_test.win.value_counts(normalize=True).loc[1]\n",
    "print targets_test.lose.value_counts(normalize=True).loc[1]\n",
    "print targets_test.draw.value_counts(normalize=True).loc[1]"
   ]
  },
  {
   "cell_type": "markdown",
   "metadata": {},
   "source": [
    "## Attempt 1: Normal dense fully-connected neural network"
   ]
  },
  {
   "cell_type": "code",
   "execution_count": 14,
   "metadata": {},
   "outputs": [],
   "source": [
    "from keras.layers import Dense\n",
    "from keras.objectives import categorical_crossentropy\n",
    "from keras.metrics import categorical_accuracy as accuracy\n",
    "from keras.regularizers import l2\n",
    "\n",
    "# Create a graph to hold the model.\n",
    "graph = tf.Graph()\n",
    "\n",
    "# Create model in the graph.\n",
    "with graph.as_default():\n",
    "\n",
    "    # Keras layers can be called on TensorFlow tensors:\n",
    "    board = tf.placeholder(tf.float32, shape=(None, 42), name='board')\n",
    "    outcome = tf.placeholder(tf.float32, shape=(None, 3), name='outcome')\n",
    "\n",
    "    # Fully connected layers\n",
    "    \n",
    "    x = Dense(512,\n",
    "              activation='tanh',\n",
    "              kernel_regularizer=regularizers.l2(0.1),\n",
    "              bias_regularizer=regularizers.l2(0.1),\n",
    "              kernel_initializer='random_uniform',\n",
    "              bias_initializer='zeros')(board)\n",
    "    \n",
    "    x = Dense(512,\n",
    "              activation='tanh',\n",
    "              kernel_regularizer=regularizers.l2(0.1),\n",
    "              bias_regularizer=regularizers.l2(0.1),\n",
    "              kernel_initializer='random_uniform',\n",
    "              bias_initializer='zeros')(x)\n",
    "   \n",
    "    x = Dense(512,\n",
    "              activation='tanh',\n",
    "              kernel_regularizer=regularizers.l2(0.1),\n",
    "              bias_regularizer=regularizers.l2(0.1),\n",
    "              kernel_initializer='random_uniform',\n",
    "              bias_initializer='zeros')(x)\n",
    "    \n",
    "    x = Dense(48,\n",
    "              activation='tanh',\n",
    "              kernel_regularizer=regularizers.l2(0.1),\n",
    "              bias_regularizer=regularizers.l2(0.1),\n",
    "              kernel_initializer='random_uniform',\n",
    "              bias_initializer='zeros')(x)\n",
    "\n",
    "    # output layer with 10 units and a softmax activation\n",
    "    preds = Dense(3, activation='softmax', name='preds')(x) \n",
    "        \n",
    "    with tf.name_scope('evaluation') as scope:\n",
    "        loss = tf.reduce_mean(categorical_crossentropy(outcome, preds))\n",
    "        tf.summary.scalar('loss', loss)    \n",
    "    \n",
    "        acc_value = accuracy(outcome, preds)\n",
    "        tf.summary.scalar('accuracy', tf.reduce_mean(acc_value))\n",
    "    \n",
    "    with tf.name_scope('training') as scope:\n",
    "        train_step = tf.train.AdamOptimizer(learning_rate=0.0001).minimize(loss)\n",
    "    \n",
    "    # Initialize all variables\n",
    "    init_op = tf.global_variables_initializer()\n",
    "    \n",
    "    all_summaries = tf.summary.merge_all()"
   ]
  },
  {
   "cell_type": "code",
   "execution_count": 15,
   "metadata": {
    "scrolled": false
   },
   "outputs": [
    {
     "name": "stdout",
     "output_type": "stream",
     "text": [
      "Running ./models/dense_2017_10_22_153235\n",
      "Batch 0 Hold-Out Accuracy: 0.351310551167 Time taken: 0.0s\n",
      "Batch 1000 Hold-Out Accuracy: 0.575231432915 Time taken: 27.3s\n",
      "Batch 2000 Hold-Out Accuracy: 0.572209656239 Time taken: 30.2s\n",
      "Batch 3000 Hold-Out Accuracy: 0.576791882515 Time taken: 30.9s\n",
      "Batch 4000 Hold-Out Accuracy: 0.578538656235 Time taken: 31.7s\n",
      "Batch 5000 Hold-Out Accuracy: 0.576641857624 Time taken: 31.7s\n",
      "Batch 6000 Hold-Out Accuracy: 0.576624929905 Time taken: 31.7s\n",
      "Batch 7000 Hold-Out Accuracy: 0.57958137989 Time taken: 31.5s\n",
      "Batch 8000 Hold-Out Accuracy: 0.581828892231 Time taken: 32.2s\n",
      "Batch 9000 Hold-Out Accuracy: 0.582842588425 Time taken: 32.1s\n",
      "DONE TRAINING\n",
      "FINAL ACCURACY: 0.582842588425\n",
      "SAVING TO: ./models/dense_2017_10_22_153235/model\n"
     ]
    }
   ],
   "source": [
    "run(graph, './models/dense_{}'.format(datetime.datetime.now().strftime(\"%Y_%m_%d_%H%M%S\")),\n",
    "    batch_size=200,\n",
    "    num_batches=10000)"
   ]
  },
  {
   "cell_type": "markdown",
   "metadata": {},
   "source": [
    "## Attempt 2: More complicated covnets"
   ]
  },
  {
   "cell_type": "code",
   "execution_count": 17,
   "metadata": {},
   "outputs": [],
   "source": [
    "from keras.layers import Conv2D, Flatten\n",
    "from keras.layers.core import Reshape\n",
    "from keras.layers.merge import Concatenate\n",
    "\n",
    "# Create a graph to hold the model.\n",
    "graph = tf.Graph()\n",
    "\n",
    "# Create model in the graph.\n",
    "with graph.as_default():\n",
    "    \n",
    "    # Keras layers can be called on TensorFlow tensors:\n",
    "    board = tf.placeholder(tf.float32, shape=(None, 42), name='board') \n",
    "    outcome = tf.placeholder(tf.float32, shape=(None, 3), name='outcome')    \n",
    "    \n",
    "    dense_args = dict(\n",
    "        use_bias=True,\n",
    "        activation='relu',\n",
    "        kernel_initializer='random_uniform',\n",
    "        bias_initializer='zeros',\n",
    "        kernel_regularizer=regularizers.l2(0.01),\n",
    "        bias_regularizer=regularizers.l2(0.01),    \n",
    "    )\n",
    "    \n",
    "    d1 = Dense(512, **dense_args)(board)\n",
    "        \n",
    "    # The input data is [col0=[row_0, row_1, ...], col1=[row_0, row_1], ...]\n",
    "    rs = Reshape((7, 6, 1), input_shape=(42,))(board)\n",
    "    \n",
    "    conv_args = dict(\n",
    "        use_bias=True,\n",
    "        activation='relu',\n",
    "        kernel_initializer='random_uniform',\n",
    "        bias_initializer='zeros',\n",
    "        kernel_regularizer=regularizers.l2(0.01),\n",
    "        input_shape=(7, 6, 1),\n",
    "        padding='valid'\n",
    "    )\n",
    "    \n",
    "    # We use a few parallel covents, that we combine in the end        \n",
    "    ca = Flatten()(Conv2D(8, kernel_size=(5, 5), **conv_args)(rs))\n",
    "    cb = Flatten()(Conv2D(8, kernel_size=(4, 4), **conv_args)(rs))\n",
    "    cc = Flatten()(Conv2D(4, kernel_size=(1, 4), **conv_args)(rs))\n",
    "    cd = Flatten()(Conv2D(4, kernel_size=(4, 1), **conv_args)(rs))\n",
    "\n",
    "    merged = Concatenate()([d1, ca, cb, cc, cd])\n",
    "    \n",
    "    x = Dense(256,  **dense_args)(merged)         \n",
    "    x = Dense(128,  **dense_args)(x)    \n",
    "    x = Dense(12,   **dense_args)(x)\n",
    "    \n",
    "    # output layer with 10 units and a softmax activation\n",
    "    preds = Dense(3, activation='softmax', name='preds')(x) \n",
    "    \n",
    "    with tf.name_scope('evaluation') as scope:\n",
    "        loss = tf.reduce_mean(categorical_crossentropy(outcome, preds))\n",
    "        tf.summary.scalar('loss', loss)\n",
    "        \n",
    "        acc_value = accuracy(outcome, preds)\n",
    "        tf.summary.scalar('accuracy', tf.reduce_mean(acc_value))\n",
    "    \n",
    "    with tf.name_scope('training') as scope:\n",
    "        train_step = tf.train.AdamOptimizer(learning_rate=0.01).minimize(loss)    \n",
    "    \n",
    "    # Initialize all variables\n",
    "    init_op = tf.global_variables_initializer()\n",
    "    \n",
    "    all_summaries = tf.summary.merge_all()"
   ]
  },
  {
   "cell_type": "code",
   "execution_count": 18,
   "metadata": {},
   "outputs": [
    {
     "name": "stdout",
     "output_type": "stream",
     "text": [
      "Running ./models/gen1-cov2d_beta_2017_10_22_155652\n",
      "Batch 0 Hold-Out Accuracy: 0.433485418558 Time taken: 0.0s\n",
      "Batch 1000 Hold-Out Accuracy: 0.602630317211 Time taken: 32.1s\n",
      "Batch 2000 Hold-Out Accuracy: 0.611956775188 Time taken: 39.8s\n",
      "Batch 3000 Hold-Out Accuracy: 0.616105973721 Time taken: 38.7s\n",
      "Batch 4000 Hold-Out Accuracy: 0.620376050472 Time taken: 38.7s\n",
      "Batch 5000 Hold-Out Accuracy: 0.621392190456 Time taken: 38.4s\n",
      "Batch 6000 Hold-Out Accuracy: 0.621827661991 Time taken: 37.1s\n",
      "Batch 7000 Hold-Out Accuracy: 0.620980918407 Time taken: 36.3s\n",
      "Batch 8000 Hold-Out Accuracy: 0.621375262737 Time taken: 38.1s\n",
      "Batch 9000 Hold-Out Accuracy: 0.620320439339 Time taken: 35.8s\n",
      "Batch 10000 Hold-Out Accuracy: 0.620627641678 Time taken: 42.5s\n",
      "Batch 11000 Hold-Out Accuracy: 0.620663940907 Time taken: 36.9s\n",
      "Batch 12000 Hold-Out Accuracy: 0.62019944191 Time taken: 35.9s\n",
      "Batch 13000 Hold-Out Accuracy: 0.618261575699 Time taken: 35.5s\n",
      "Batch 14000 Hold-Out Accuracy: 0.618834972382 Time taken: 35.8s\n",
      "Batch 15000 Hold-Out Accuracy: 0.619875252247 Time taken: 41.6s\n",
      "Batch 16000 Hold-Out Accuracy: 0.618757545948 Time taken: 42.2s\n",
      "Batch 17000 Hold-Out Accuracy: 0.617630124092 Time taken: 37.8s\n",
      "Batch 18000 Hold-Out Accuracy: 0.617627680302 Time taken: 35.8s\n",
      "Batch 19000 Hold-Out Accuracy: 0.618126094341 Time taken: 35.7s\n",
      "DONE TRAINING\n",
      "FINAL ACCURACY: 0.618126094341\n",
      "SAVING TO: ./models/gen1-cov2d_beta_2017_10_22_155652/model\n"
     ]
    }
   ],
   "source": [
    "sess = run(graph,\n",
    "           './models/gen1-cov2d_beta_{}'.format(datetime.datetime.now().strftime(\"%Y_%m_%d_%H%M%S\")),\n",
    "           batch_size=500,\n",
    "           num_batches=20000)"
   ]
  },
  {
   "cell_type": "code",
   "execution_count": 16,
   "metadata": {},
   "outputs": [],
   "source": [
    "# Gen 2"
   ]
  },
  {
   "cell_type": "code",
   "execution_count": null,
   "metadata": {},
   "outputs": [],
   "source": [
    "# Use all the advanced data\n",
    "# 10,000 rows of gen-1 vs gen-1 data\n",
    "key = 'gen-1-cov2d_beta_2017_10_22_142925'\n",
    "feat_train, target_train, feat_test, target_test = load_data('training_data/gen-1-cov2d_beta_2017_10_22_142925')"
   ]
  },
  {
   "cell_type": "code",
   "execution_count": null,
   "metadata": {},
   "outputs": [],
   "source": []
  }
 ],
 "metadata": {
  "kernelspec": {
   "display_name": "connectfour",
   "language": "python",
   "name": "connectfour"
  },
  "language_info": {
   "codemirror_mode": {
    "name": "ipython",
    "version": 2
   },
   "file_extension": ".py",
   "mimetype": "text/x-python",
   "name": "python",
   "nbconvert_exporter": "python",
   "pygments_lexer": "ipython2",
   "version": "2.7.11"
  }
 },
 "nbformat": 4,
 "nbformat_minor": 2
}
