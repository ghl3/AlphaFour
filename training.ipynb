{
 "cells": [
  {
   "cell_type": "code",
   "execution_count": 1,
   "metadata": {},
   "outputs": [],
   "source": [
    "from __future__ import division"
   ]
  },
  {
   "cell_type": "code",
   "execution_count": 2,
   "metadata": {},
   "outputs": [],
   "source": [
    "import os\n",
    "import random\n",
    "import math\n",
    "import datetime\n",
    "import time"
   ]
  },
  {
   "cell_type": "code",
   "execution_count": 3,
   "metadata": {},
   "outputs": [],
   "source": [
    "import matplotlib.pyplot as plt\n",
    "%matplotlib inline"
   ]
  },
  {
   "cell_type": "code",
   "execution_count": 4,
   "metadata": {},
   "outputs": [],
   "source": [
    "import numpy as np\n",
    "import pandas as pd"
   ]
  },
  {
   "cell_type": "code",
   "execution_count": 5,
   "metadata": {},
   "outputs": [
    {
     "name": "stderr",
     "output_type": "stream",
     "text": [
      "Using TensorFlow backend.\n"
     ]
    }
   ],
   "source": [
    "import tensorflow as tf\n",
    "from keras import backend as K\n",
    "from keras import regularizers"
   ]
  },
  {
   "cell_type": "code",
   "execution_count": 6,
   "metadata": {},
   "outputs": [],
   "source": [
    "%load_ext autoreload\n",
    "\n",
    "%autoreload 1\n",
    "\n",
    "%aimport training"
   ]
  },
  {
   "cell_type": "code",
   "execution_count": 44,
   "metadata": {},
   "outputs": [],
   "source": [
    "ds = (training.DataLoader()\n",
    "      .add_dataset('random-2017-10-21-13:41:47', 100)\n",
    "      .add_dataset('gen-1-cov2d_beta_2017_10_22_142925', 200)\n",
    "      .load())"
   ]
  },
  {
   "cell_type": "code",
   "execution_count": null,
   "metadata": {},
   "outputs": [],
   "source": []
  },
  {
   "cell_type": "code",
   "execution_count": null,
   "metadata": {},
   "outputs": [],
   "source": [
    "def train(graph, output_prefix,\n",
    "          features_rain, targets_train, features_test, targets_test,\n",
    "          batch_size, num_batches, batch_how='iter'):\n",
    "    \n",
    "    # To be run, a graph must have the following:\n",
    "    # - Tensor: board:0\n",
    "    # - Tensor: outcome:0\n",
    "    # - Tensor: Merge/MergeSummary:0\n",
    "    # - Operation: init_op\n",
    "    # - Operation: training/train_step\n",
    "\n",
    "    board = graph.get_tensor_by_name('board:0')\n",
    "    outcome = graph.get_tensor_by_name('outcome:0')\n",
    "    all_summaries = graph.get_tensor_by_name('Merge/MergeSummary:0')\n",
    "    \n",
    "    init_op = graph.get_operation_by_name('init')\n",
    "    train_step = graph.get_operation_by_name('training/train_step')\n",
    "    \n",
    "    with tf.Session(graph=graph) as sess:\n",
    "    \n",
    "        K.set_session(sess)\n",
    "        sess.run(init_op)\n",
    "\n",
    "        train_writer = tf.summary.FileWriter(output_prefix, sess.graph)\n",
    "        \n",
    "        print \"Running {}\".format(output_prefix)\n",
    "            \n",
    "        t = time.time()\n",
    "        delta_t = 0\n",
    "        \n",
    "        for i in range(num_batches):\n",
    "        \n",
    "            if i % 1000 == 0:\n",
    "                \n",
    "                delta_t = time.time() - t\n",
    "                t = time.time()\n",
    "                    \n",
    "                acc = acc_value.eval(feed_dict={board: features_test, outcome: targets_test}).mean()\n",
    "                print \"Batch {} Hold-Out Accuracy: {} Time taken: {:.1f}s\".format(i, acc, delta_t)\n",
    "\n",
    "                summary = sess.run(all_summaries, feed_dict={board: features_test, outcome: targets_test})\n",
    "                train_writer.add_summary(summary, i)            \n",
    "            \n",
    "            batch = get_batch(batch_size, i, [features_train, targets_train], how=batch_how)        \n",
    "            train_step.run(feed_dict={board: batch[0], outcome: batch[1]})\n",
    "        \n",
    "        print \"DONE TRAINING\"\n",
    "        print \"FINAL ACCURACY: {}\".format(acc)\n",
    "        train_writer.close()\n",
    "        \n",
    "        model_dir = '{}/model'.format(output_prefix)\n",
    "        print \"SAVING TO: {}\".format(model_dir)\n",
    "        tf.train.Saver().save(sess, model_dir)"
   ]
  },
  {
   "cell_type": "markdown",
   "metadata": {},
   "source": [
    "# Gen 1"
   ]
  },
  {
   "cell_type": "code",
   "execution_count": 7,
   "metadata": {},
   "outputs": [],
   "source": [
    "# 100,000 rows of random vs random (gen 0) data\n",
    "key = 'random-2017-10-21-13:41:47'\n",
    "\n",
    "features, targets, features_train, targets_train, features_test, targets_test = training.load_data('training_data/{}'.format(key))"
   ]
  },
  {
   "cell_type": "code",
   "execution_count": null,
   "metadata": {},
   "outputs": [],
   "source": [
    "print len(features_train), len(features_test)\n",
    "print len(targets_train), len(targets_test)\n",
    "\n",
    "print targets_test.win.value_counts(normalize=True).loc[1]\n",
    "print targets_test.lose.value_counts(normalize=True).loc[1]\n",
    "print targets_test.draw.value_counts(normalize=True).loc[1]"
   ]
  },
  {
   "cell_type": "markdown",
   "metadata": {},
   "source": [
    "## Attempt 1: Normal dense fully-connected neural network"
   ]
  },
  {
   "cell_type": "code",
   "execution_count": 62,
   "metadata": {},
   "outputs": [],
   "source": [
    "from keras.layers import Dense\n",
    "from keras.objectives import categorical_crossentropy\n",
    "from keras.metrics import categorical_accuracy as accuracy\n",
    "from keras.regularizers import l2\n",
    "\n",
    "# Create a graph to hold the model.\n",
    "graph = tf.Graph()\n",
    "\n",
    "# Create model in the graph.\n",
    "with graph.as_default():\n",
    "\n",
    "    # Keras layers can be called on TensorFlow tensors:\n",
    "    board = tf.placeholder(tf.float32, shape=(None, 42), name='board')\n",
    "    outcome = tf.placeholder(tf.float32, shape=(None, 3), name='outcome')\n",
    "\n",
    "    # Fully connected layers\n",
    "    \n",
    "    x = Dense(512,\n",
    "              activation='tanh',\n",
    "              kernel_regularizer=regularizers.l2(0.1),\n",
    "              bias_regularizer=regularizers.l2(0.1),\n",
    "              kernel_initializer='random_uniform',\n",
    "              bias_initializer='zeros')(board)\n",
    "    \n",
    "    x = Dense(512,\n",
    "              activation='tanh',\n",
    "              kernel_regularizer=regularizers.l2(0.1),\n",
    "              bias_regularizer=regularizers.l2(0.1),\n",
    "              kernel_initializer='random_uniform',\n",
    "              bias_initializer='zeros')(x)\n",
    "   \n",
    "    x = Dense(512,\n",
    "              activation='tanh',\n",
    "              kernel_regularizer=regularizers.l2(0.1),\n",
    "              bias_regularizer=regularizers.l2(0.1),\n",
    "              kernel_initializer='random_uniform',\n",
    "              bias_initializer='zeros')(x)\n",
    "    \n",
    "    x = Dense(48,\n",
    "              activation='tanh',\n",
    "              kernel_regularizer=regularizers.l2(0.1),\n",
    "              bias_regularizer=regularizers.l2(0.1),\n",
    "              kernel_initializer='random_uniform',\n",
    "              bias_initializer='zeros')(x)\n",
    "\n",
    "    # output layer with 10 units and a softmax activation\n",
    "    preds = Dense(3, activation='softmax', name='preds')(x) \n",
    "        \n",
    "    with tf.name_scope('evaluation') as scope:\n",
    "        loss = tf.reduce_mean(categorical_crossentropy(outcome, preds), name='loss')\n",
    "        tf.summary.scalar('loss', loss)    \n",
    "    \n",
    "        acc_value = tf.identity(accuracy(outcome, preds), name='accuracy')\n",
    "        tf.summary.scalar('accuracy', tf.reduce_mean(acc_value))\n",
    "    \n",
    "    with tf.name_scope('training') as scope:\n",
    "        train_step = tf.train.AdamOptimizer(learning_rate=0.0001).minimize(loss, name='train_step')\n",
    "    \n",
    "    # Initialize all variables\n",
    "    init_op = tf.global_variables_initializer()\n",
    "    \n",
    "    all_summaries = tf.summary.merge_all()"
   ]
  },
  {
   "cell_type": "code",
   "execution_count": 63,
   "metadata": {},
   "outputs": [
    {
     "data": {
      "text/plain": [
       "<tf.Tensor 'evaluation/accuracy:0' shape=(?,) dtype=float32>"
      ]
     },
     "execution_count": 63,
     "metadata": {},
     "output_type": "execute_result"
    }
   ],
   "source": [
    "graph.get_tensor_by_name('evaluation/accuracy:0')"
   ]
  },
  {
   "cell_type": "code",
   "execution_count": 64,
   "metadata": {},
   "outputs": [
    {
     "data": {
      "text/plain": [
       "<tf.Tensor 'evaluation/accuracy:0' shape=(?,) dtype=float32>"
      ]
     },
     "execution_count": 64,
     "metadata": {},
     "output_type": "execute_result"
    }
   ],
   "source": [
    "acc_value"
   ]
  },
  {
   "cell_type": "code",
   "execution_count": 43,
   "metadata": {},
   "outputs": [
    {
     "data": {
      "text/plain": [
       "(952, 5)"
      ]
     },
     "execution_count": 43,
     "metadata": {},
     "output_type": "execute_result"
    }
   ],
   "source": [
    "ds.y_test.shape"
   ]
  },
  {
   "cell_type": "code",
   "execution_count": null,
   "metadata": {},
   "outputs": [
    {
     "name": "stdout",
     "output_type": "stream",
     "text": [
      "Running ./models/dense_2017_10_28_140617\n",
      "Batch 000000 Hold-Out Accuracy: 0.3590 Loss: 1.0976 Time taken: 0.0s\n",
      "Batch 001000 Hold-Out Accuracy: 0.4832 Loss: 0.9314 Time taken: 15.6s\n"
     ]
    }
   ],
   "source": [
    "training.train(graph, './models/dense_{}'.format(datetime.datetime.now().strftime(\"%Y_%m_%d_%H%M%S\")),\n",
    "               ds,  batch_size=200, num_batches=2000)"
   ]
  },
  {
   "cell_type": "code",
   "execution_count": null,
   "metadata": {
    "scrolled": false
   },
   "outputs": [],
   "source": [
    "train(graph, './models/dense_{}'.format(datetime.datetime.now().strftime(\"%Y_%m_%d_%H%M%S\")),\n",
    "      features_train, targets_train, features_test, targets_test,\n",
    "      batch_size=200, num_batches=2000)"
   ]
  },
  {
   "cell_type": "markdown",
   "metadata": {},
   "source": [
    "## Attempt 2: More complicated covnets"
   ]
  },
  {
   "cell_type": "code",
   "execution_count": null,
   "metadata": {},
   "outputs": [],
   "source": [
    "from keras.layers import Conv2D, Flatten\n",
    "from keras.layers.core import Reshape\n",
    "from keras.layers.merge import Concatenate\n",
    "\n",
    "# Create a graph to hold the model.\n",
    "graph = tf.Graph()\n",
    "\n",
    "# Create model in the graph.\n",
    "with graph.as_default():\n",
    "    \n",
    "    # Keras layers can be called on TensorFlow tensors:\n",
    "    board = tf.placeholder(tf.float32, shape=(None, 42), name='board') \n",
    "    outcome = tf.placeholder(tf.float32, shape=(None, 3), name='outcome')    \n",
    "    \n",
    "    dense_args = dict(\n",
    "        use_bias=True,\n",
    "        activation='relu',\n",
    "        kernel_initializer='random_uniform',\n",
    "        bias_initializer='zeros',\n",
    "        kernel_regularizer=regularizers.l2(0.01),\n",
    "        bias_regularizer=regularizers.l2(0.01),    \n",
    "    )\n",
    "    \n",
    "    d1 = Dense(512, **dense_args)(board)\n",
    "        \n",
    "    # The input data is [col0=[row_0, row_1, ...], col1=[row_0, row_1], ...]\n",
    "    rs = Reshape((7, 6, 1), input_shape=(42,))(board)\n",
    "    \n",
    "    conv_args = dict(\n",
    "        use_bias=True,\n",
    "        activation='relu',\n",
    "        kernel_initializer='random_uniform',\n",
    "        bias_initializer='zeros',\n",
    "        kernel_regularizer=regularizers.l2(0.01),\n",
    "        input_shape=(7, 6, 1),\n",
    "        padding='valid'\n",
    "    )\n",
    "    \n",
    "    # We use a few parallel covents, that we combine in the end        \n",
    "    ca = Flatten()(Conv2D(8, kernel_size=(5, 5), **conv_args)(rs))\n",
    "    cb = Flatten()(Conv2D(8, kernel_size=(4, 4), **conv_args)(rs))\n",
    "    cc = Flatten()(Conv2D(4, kernel_size=(1, 4), **conv_args)(rs))\n",
    "    cd = Flatten()(Conv2D(4, kernel_size=(4, 1), **conv_args)(rs))\n",
    "\n",
    "    merged = Concatenate()([d1, ca, cb, cc, cd])\n",
    "    \n",
    "    x = Dense(256,  **dense_args)(merged)         \n",
    "    x = Dense(128,  **dense_args)(x)    \n",
    "    x = Dense(12,   **dense_args)(x)\n",
    "    \n",
    "    # output layer with 10 units and a softmax activation\n",
    "    preds = Dense(3, activation='softmax', name='preds')(x) \n",
    "    \n",
    "    with tf.name_scope('evaluation') as scope:\n",
    "        loss = tf.reduce_mean(categorical_crossentropy(outcome, preds))\n",
    "        tf.summary.scalar('loss', loss)\n",
    "        \n",
    "        acc_value = accuracy(outcome, preds)\n",
    "        tf.summary.scalar('accuracy', tf.reduce_mean(acc_value))\n",
    "    \n",
    "    with tf.name_scope('training') as scope:\n",
    "        train_step = tf.train.AdamOptimizer(learning_rate=0.01).minimize(loss)    \n",
    "    \n",
    "    # Initialize all variables\n",
    "    init_op = tf.global_variables_initializer()\n",
    "    \n",
    "    all_summaries = tf.summary.merge_all()"
   ]
  },
  {
   "cell_type": "code",
   "execution_count": null,
   "metadata": {},
   "outputs": [],
   "source": [
    "sess = run(graph,\n",
    "           './models/gen1-cov2d_beta_{}'.format(datetime.datetime.now().strftime(\"%Y_%m_%d_%H%M%S\")),\n",
    "           batch_size=500,\n",
    "           num_batches=20000)"
   ]
  },
  {
   "cell_type": "markdown",
   "metadata": {},
   "source": [
    "# Gen 2"
   ]
  },
  {
   "cell_type": "code",
   "execution_count": null,
   "metadata": {},
   "outputs": [],
   "source": [
    "# Use all the advanced data\n",
    "# 10,000 rows of gen-1 vs gen-1 data\n",
    "key = 'gen-1-cov2d_beta_2017_10_22_142925'\n",
    "features, targets, features_train, target_train, features_test, target_test = load_data('training_data/gen-1-cov2d_beta_2017_10_22_142925')"
   ]
  },
  {
   "cell_type": "code",
   "execution_count": null,
   "metadata": {},
   "outputs": [],
   "source": [
    "targets.win.value_counts(normalize=True)"
   ]
  },
  {
   "cell_type": "code",
   "execution_count": null,
   "metadata": {},
   "outputs": [],
   "source": []
  }
 ],
 "metadata": {
  "kernelspec": {
   "display_name": "connectfour",
   "language": "python",
   "name": "connectfour"
  },
  "language_info": {
   "codemirror_mode": {
    "name": "ipython",
    "version": 2
   },
   "file_extension": ".py",
   "mimetype": "text/x-python",
   "name": "python",
   "nbconvert_exporter": "python",
   "pygments_lexer": "ipython2",
   "version": "2.7.11"
  }
 },
 "nbformat": 4,
 "nbformat_minor": 2
}
