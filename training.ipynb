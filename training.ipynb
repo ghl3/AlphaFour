{
 "cells": [
  {
   "cell_type": "code",
   "execution_count": 1,
   "metadata": {
    "collapsed": true
   },
   "outputs": [],
   "source": [
    "from __future__ import division"
   ]
  },
  {
   "cell_type": "code",
   "execution_count": 165,
   "metadata": {
    "collapsed": true
   },
   "outputs": [],
   "source": [
    "import os\n",
    "import random\n",
    "import math\n",
    "import datetime\n",
    "import time"
   ]
  },
  {
   "cell_type": "code",
   "execution_count": 3,
   "metadata": {
    "collapsed": true
   },
   "outputs": [],
   "source": [
    "import numpy as np\n",
    "import pandas as pd"
   ]
  },
  {
   "cell_type": "code",
   "execution_count": 4,
   "metadata": {},
   "outputs": [
    {
     "name": "stderr",
     "output_type": "stream",
     "text": [
      "Using TensorFlow backend.\n"
     ]
    }
   ],
   "source": [
    "import tensorflow as tf\n",
    "from keras import backend as K"
   ]
  },
  {
   "cell_type": "code",
   "execution_count": null,
   "metadata": {
    "collapsed": true
   },
   "outputs": [],
   "source": []
  },
  {
   "cell_type": "code",
   "execution_count": 36,
   "metadata": {
    "collapsed": true
   },
   "outputs": [],
   "source": [
    "features = pd.read_csv('data/features.txt', names=range(42), dtype='float32')\n",
    "targets = pd.read_csv('data/targets.txt', names=['win', 'lose', 'draw'], dtype='float32')\n",
    "\n",
    "num_hold_out = 20000\n",
    "\n",
    "shuff = list(features.index)\n",
    "random.shuffle(shuff)\n",
    "\n",
    "holdout_features = features.loc[shuff[:num_hold_out]]\n",
    "holdout_targets = targets.loc[shuff[:num_hold_out]]\n",
    "\n",
    "features = features.loc[shuff[num_hold_out:]]\n",
    "targets = targets.loc[shuff[num_hold_out:]]"
   ]
  },
  {
   "cell_type": "code",
   "execution_count": 37,
   "metadata": {},
   "outputs": [
    {
     "data": {
      "text/html": [
       "<div>\n",
       "<style>\n",
       "    .dataframe thead tr:only-child th {\n",
       "        text-align: right;\n",
       "    }\n",
       "\n",
       "    .dataframe thead th {\n",
       "        text-align: left;\n",
       "    }\n",
       "\n",
       "    .dataframe tbody tr th {\n",
       "        vertical-align: top;\n",
       "    }\n",
       "</style>\n",
       "<table border=\"1\" class=\"dataframe\">\n",
       "  <thead>\n",
       "    <tr style=\"text-align: right;\">\n",
       "      <th></th>\n",
       "      <th>0</th>\n",
       "      <th>1</th>\n",
       "      <th>2</th>\n",
       "      <th>3</th>\n",
       "      <th>4</th>\n",
       "      <th>5</th>\n",
       "      <th>6</th>\n",
       "      <th>7</th>\n",
       "      <th>8</th>\n",
       "      <th>9</th>\n",
       "      <th>...</th>\n",
       "      <th>32</th>\n",
       "      <th>33</th>\n",
       "      <th>34</th>\n",
       "      <th>35</th>\n",
       "      <th>36</th>\n",
       "      <th>37</th>\n",
       "      <th>38</th>\n",
       "      <th>39</th>\n",
       "      <th>40</th>\n",
       "      <th>41</th>\n",
       "    </tr>\n",
       "  </thead>\n",
       "  <tbody>\n",
       "    <tr>\n",
       "      <th>2011976</th>\n",
       "      <td>-1.0</td>\n",
       "      <td>1.0</td>\n",
       "      <td>0.0</td>\n",
       "      <td>0.0</td>\n",
       "      <td>0.0</td>\n",
       "      <td>0.0</td>\n",
       "      <td>-1.0</td>\n",
       "      <td>-1.0</td>\n",
       "      <td>0.0</td>\n",
       "      <td>0.0</td>\n",
       "      <td>...</td>\n",
       "      <td>0.0</td>\n",
       "      <td>0.0</td>\n",
       "      <td>0.0</td>\n",
       "      <td>0.0</td>\n",
       "      <td>1.0</td>\n",
       "      <td>0.0</td>\n",
       "      <td>0.0</td>\n",
       "      <td>0.0</td>\n",
       "      <td>0.0</td>\n",
       "      <td>0.0</td>\n",
       "    </tr>\n",
       "    <tr>\n",
       "      <th>1155971</th>\n",
       "      <td>1.0</td>\n",
       "      <td>0.0</td>\n",
       "      <td>0.0</td>\n",
       "      <td>0.0</td>\n",
       "      <td>0.0</td>\n",
       "      <td>0.0</td>\n",
       "      <td>0.0</td>\n",
       "      <td>0.0</td>\n",
       "      <td>0.0</td>\n",
       "      <td>0.0</td>\n",
       "      <td>...</td>\n",
       "      <td>0.0</td>\n",
       "      <td>0.0</td>\n",
       "      <td>0.0</td>\n",
       "      <td>0.0</td>\n",
       "      <td>-1.0</td>\n",
       "      <td>0.0</td>\n",
       "      <td>0.0</td>\n",
       "      <td>0.0</td>\n",
       "      <td>0.0</td>\n",
       "      <td>0.0</td>\n",
       "    </tr>\n",
       "    <tr>\n",
       "      <th>1325412</th>\n",
       "      <td>-1.0</td>\n",
       "      <td>1.0</td>\n",
       "      <td>1.0</td>\n",
       "      <td>-1.0</td>\n",
       "      <td>-1.0</td>\n",
       "      <td>0.0</td>\n",
       "      <td>-1.0</td>\n",
       "      <td>0.0</td>\n",
       "      <td>0.0</td>\n",
       "      <td>0.0</td>\n",
       "      <td>...</td>\n",
       "      <td>0.0</td>\n",
       "      <td>0.0</td>\n",
       "      <td>0.0</td>\n",
       "      <td>0.0</td>\n",
       "      <td>1.0</td>\n",
       "      <td>1.0</td>\n",
       "      <td>-1.0</td>\n",
       "      <td>1.0</td>\n",
       "      <td>1.0</td>\n",
       "      <td>0.0</td>\n",
       "    </tr>\n",
       "    <tr>\n",
       "      <th>818485</th>\n",
       "      <td>-1.0</td>\n",
       "      <td>-1.0</td>\n",
       "      <td>0.0</td>\n",
       "      <td>0.0</td>\n",
       "      <td>0.0</td>\n",
       "      <td>0.0</td>\n",
       "      <td>1.0</td>\n",
       "      <td>1.0</td>\n",
       "      <td>1.0</td>\n",
       "      <td>0.0</td>\n",
       "      <td>...</td>\n",
       "      <td>-1.0</td>\n",
       "      <td>0.0</td>\n",
       "      <td>0.0</td>\n",
       "      <td>0.0</td>\n",
       "      <td>-1.0</td>\n",
       "      <td>-1.0</td>\n",
       "      <td>0.0</td>\n",
       "      <td>0.0</td>\n",
       "      <td>0.0</td>\n",
       "      <td>0.0</td>\n",
       "    </tr>\n",
       "    <tr>\n",
       "      <th>295871</th>\n",
       "      <td>1.0</td>\n",
       "      <td>-1.0</td>\n",
       "      <td>-1.0</td>\n",
       "      <td>0.0</td>\n",
       "      <td>0.0</td>\n",
       "      <td>0.0</td>\n",
       "      <td>0.0</td>\n",
       "      <td>0.0</td>\n",
       "      <td>0.0</td>\n",
       "      <td>0.0</td>\n",
       "      <td>...</td>\n",
       "      <td>-1.0</td>\n",
       "      <td>0.0</td>\n",
       "      <td>0.0</td>\n",
       "      <td>0.0</td>\n",
       "      <td>0.0</td>\n",
       "      <td>0.0</td>\n",
       "      <td>0.0</td>\n",
       "      <td>0.0</td>\n",
       "      <td>0.0</td>\n",
       "      <td>0.0</td>\n",
       "    </tr>\n",
       "  </tbody>\n",
       "</table>\n",
       "<p>5 rows × 42 columns</p>\n",
       "</div>"
      ],
      "text/plain": [
       "          0    1    2    3    4    5    6    7    8    9  ...    32   33   34  \\\n",
       "2011976 -1.0  1.0  0.0  0.0  0.0  0.0 -1.0 -1.0  0.0  0.0 ...   0.0  0.0  0.0   \n",
       "1155971  1.0  0.0  0.0  0.0  0.0  0.0  0.0  0.0  0.0  0.0 ...   0.0  0.0  0.0   \n",
       "1325412 -1.0  1.0  1.0 -1.0 -1.0  0.0 -1.0  0.0  0.0  0.0 ...   0.0  0.0  0.0   \n",
       "818485  -1.0 -1.0  0.0  0.0  0.0  0.0  1.0  1.0  1.0  0.0 ...  -1.0  0.0  0.0   \n",
       "295871   1.0 -1.0 -1.0  0.0  0.0  0.0  0.0  0.0  0.0  0.0 ...  -1.0  0.0  0.0   \n",
       "\n",
       "          35   36   37   38   39   40   41  \n",
       "2011976  0.0  1.0  0.0  0.0  0.0  0.0  0.0  \n",
       "1155971  0.0 -1.0  0.0  0.0  0.0  0.0  0.0  \n",
       "1325412  0.0  1.0  1.0 -1.0  1.0  1.0  0.0  \n",
       "818485   0.0 -1.0 -1.0  0.0  0.0  0.0  0.0  \n",
       "295871   0.0  0.0  0.0  0.0  0.0  0.0  0.0  \n",
       "\n",
       "[5 rows x 42 columns]"
      ]
     },
     "execution_count": 37,
     "metadata": {},
     "output_type": "execute_result"
    }
   ],
   "source": [
    "features.head()"
   ]
  },
  {
   "cell_type": "code",
   "execution_count": 38,
   "metadata": {
    "scrolled": true
   },
   "outputs": [
    {
     "data": {
      "text/html": [
       "<div>\n",
       "<style>\n",
       "    .dataframe thead tr:only-child th {\n",
       "        text-align: right;\n",
       "    }\n",
       "\n",
       "    .dataframe thead th {\n",
       "        text-align: left;\n",
       "    }\n",
       "\n",
       "    .dataframe tbody tr th {\n",
       "        vertical-align: top;\n",
       "    }\n",
       "</style>\n",
       "<table border=\"1\" class=\"dataframe\">\n",
       "  <thead>\n",
       "    <tr style=\"text-align: right;\">\n",
       "      <th></th>\n",
       "      <th>win</th>\n",
       "      <th>lose</th>\n",
       "      <th>draw</th>\n",
       "    </tr>\n",
       "  </thead>\n",
       "  <tbody>\n",
       "    <tr>\n",
       "      <th>2011976</th>\n",
       "      <td>0.0</td>\n",
       "      <td>1.0</td>\n",
       "      <td>0.0</td>\n",
       "    </tr>\n",
       "    <tr>\n",
       "      <th>1155971</th>\n",
       "      <td>0.0</td>\n",
       "      <td>1.0</td>\n",
       "      <td>0.0</td>\n",
       "    </tr>\n",
       "    <tr>\n",
       "      <th>1325412</th>\n",
       "      <td>0.0</td>\n",
       "      <td>1.0</td>\n",
       "      <td>0.0</td>\n",
       "    </tr>\n",
       "    <tr>\n",
       "      <th>818485</th>\n",
       "      <td>1.0</td>\n",
       "      <td>0.0</td>\n",
       "      <td>0.0</td>\n",
       "    </tr>\n",
       "    <tr>\n",
       "      <th>295871</th>\n",
       "      <td>1.0</td>\n",
       "      <td>0.0</td>\n",
       "      <td>0.0</td>\n",
       "    </tr>\n",
       "  </tbody>\n",
       "</table>\n",
       "</div>"
      ],
      "text/plain": [
       "         win  lose  draw\n",
       "2011976  0.0   1.0   0.0\n",
       "1155971  0.0   1.0   0.0\n",
       "1325412  0.0   1.0   0.0\n",
       "818485   1.0   0.0   0.0\n",
       "295871   1.0   0.0   0.0"
      ]
     },
     "execution_count": 38,
     "metadata": {},
     "output_type": "execute_result"
    }
   ],
   "source": [
    "targets.head()"
   ]
  },
  {
   "cell_type": "code",
   "execution_count": 139,
   "metadata": {},
   "outputs": [
    {
     "data": {
      "text/plain": [
       "2290475"
      ]
     },
     "execution_count": 139,
     "metadata": {},
     "output_type": "execute_result"
    }
   ],
   "source": [
    "len(features)"
   ]
  },
  {
   "cell_type": "code",
   "execution_count": 143,
   "metadata": {
    "collapsed": true
   },
   "outputs": [],
   "source": [
    "def get_batch_iter(batch_size, batch_idx, dfs):\n",
    "    \n",
    "    length = len(dfs[0])\n",
    "    for df in dfs:\n",
    "        assert len(df) == length\n",
    "        \n",
    "    batches_per_df = int(math.ceil(length / batch_size))\n",
    "    \n",
    "    local_idx = batch_idx % batches_per_df\n",
    "    \n",
    "    start = local_idx*batch_size\n",
    "    end = (local_idx+1)*batch_size\n",
    "    \n",
    "    return [df.iloc[start:end] for df in dfs]\n",
    "\n",
    "\n",
    "def get_batch_random(batch_size, _, dfs):    \n",
    "    mask = pd.Series(dfs[0].index).sample(n=batch_size, replace=False)    \n",
    "    return [df.loc[mask] for df in dfs]\n",
    "\n",
    "\n",
    "def get_batch(batch_size, batch_idx, dfs, how='iter'):\n",
    "    if how == 'iter':\n",
    "        return get_batch_iter(batch_size, batch_idx, dfs)\n",
    "    elif how == 'random':\n",
    "        return get_batch_random(batch_size, batch_idx, dfs)\n",
    "    else:\n",
    "        raise Exception()"
   ]
  },
  {
   "cell_type": "code",
   "execution_count": 237,
   "metadata": {
    "collapsed": true
   },
   "outputs": [],
   "source": [
    "def run(graph, output_prefix, batch_size, num_batches, batch_how='iter', save_prefix=None):\n",
    "    \n",
    "    with tf.Session(graph=graph) as sess:\n",
    "    \n",
    "        K.set_session(sess)\n",
    "        sess.run(init_op)\n",
    "    \n",
    "        suffix = datetime.datetime.now().strftime(\"%Y_%m_%d_%H:%M:%S\")\n",
    "        name = '{}_{}'.format(output_prefix, suffix)\n",
    "        train_writer = tf.summary.FileWriter(name, sess.graph)\n",
    "        \n",
    "        print \"Running {}\".format(name)\n",
    "            \n",
    "        t = time.time()\n",
    "        delta_t = 0\n",
    "        \n",
    "        for i in range(num_batches):\n",
    "        \n",
    "            if i % 1000 == 0:\n",
    "                \n",
    "                delta_t = time.time() - t\n",
    "                t = time.time()\n",
    "                    \n",
    "                acc = acc_value.eval(feed_dict={board: holdout_features, outcome: holdout_targets}).mean()\n",
    "                print \"Batch {} Hold-Out Accuracy: {} Time taken: {:.1f}s\".format(i, acc, delta_t)\n",
    "\n",
    "                summary = sess.run(all_summaries, feed_dict={board: holdout_features, outcome: holdout_targets})\n",
    "                train_writer.add_summary(summary, i)            \n",
    "            \n",
    "            batch = get_batch(batch_size, i, [features, targets], how=batch_how)        \n",
    "            train_step.run(feed_dict={board: batch[0], outcome: batch[1]})\n",
    "        \n",
    "        print \"DONE TRAINING\"\n",
    "        print \"FINAL ACCURACY: {}\".format(acc)\n",
    "        train_writer.close()\n",
    "        \n",
    "        if save_prefix:\n",
    "            save_name = \"{}_{}\".format(save_prefix, suffix)\n",
    "            print \"SAVING TO: {}\".format(save_name)\n",
    "            os.makedirs(save_name)\n",
    "            tf.train.Saver().save(sess, save_name+'/model')"
   ]
  },
  {
   "cell_type": "markdown",
   "metadata": {},
   "source": [
    "## Attempt 1: Normal dense fully-conneected neural network"
   ]
  },
  {
   "cell_type": "code",
   "execution_count": 121,
   "metadata": {
    "collapsed": true
   },
   "outputs": [],
   "source": [
    "from keras.layers import Dense\n",
    "from keras.objectives import categorical_crossentropy\n",
    "from keras.metrics import categorical_accuracy as accuracy\n",
    "\n",
    "# Create a graph to hold the model.\n",
    "graph = tf.Graph()\n",
    "\n",
    "# Create model in the graph.\n",
    "with graph.as_default():\n",
    "\n",
    "    # Keras layers can be called on TensorFlow tensors:\n",
    "    board = tf.placeholder(tf.float32, shape=(None, 42))\n",
    "    \n",
    "    # Fully connected layers\n",
    "    x = Dense(512, activation='tanh')(board)    \n",
    "    x = Dense(256, activation='tanh')(x) \n",
    "    x = Dense(128, activation='tanh')(x)\n",
    "    \n",
    "    # output layer with 10 units and a softmax activation\n",
    "    preds = Dense(3, activation='softmax')(x) \n",
    "    \n",
    "    outcome = tf.placeholder(tf.float32, shape=(None, 3))\n",
    "    \n",
    "    with tf.name_scope('loss') as scope:\n",
    "        loss = tf.reduce_mean(categorical_crossentropy(outcome, preds))\n",
    "        tf.summary.scalar('loss', loss)    \n",
    "    \n",
    "    with tf.name_scope('accuracy') as scope:\n",
    "        acc_value = accuracy(outcome, preds)\n",
    "        tf.summary.scalar('accuracy', tf.reduce_mean(acc_value))\n",
    "    \n",
    "    with tf.name_scope('training') as scope:\n",
    "        train_step = tf.train.AdamOptimizer(learning_rate=0.001).minimize(loss)\n",
    "    \n",
    "    # Initialize all variables\n",
    "    init_op = tf.global_variables_initializer()\n",
    "    \n",
    "    all_summaries = tf.summary.merge_all()"
   ]
  },
  {
   "cell_type": "code",
   "execution_count": 122,
   "metadata": {},
   "outputs": [
    {
     "name": "stdout",
     "output_type": "stream",
     "text": [
      "Running ./train/dense_2017_05_27_17:49:04\n",
      "Batch 0 Hold-Out Accuracy: 0.370950013399\n",
      "Batch 1000 Hold-Out Accuracy: 0.593599975109\n",
      "Batch 2000 Hold-Out Accuracy: 0.599399983883\n",
      "Batch 3000 Hold-Out Accuracy: 0.604799985886\n",
      "Batch 4000 Hold-Out Accuracy: 0.60900002718\n",
      "Batch 5000 Hold-Out Accuracy: 0.607699990273\n",
      "Batch 6000 Hold-Out Accuracy: 0.608749985695\n",
      "Batch 7000 Hold-Out Accuracy: 0.614250004292\n",
      "Batch 8000 Hold-Out Accuracy: 0.611549973488\n",
      "Batch 9000 Hold-Out Accuracy: 0.620450019836\n",
      "Batch 10000 Hold-Out Accuracy: 0.621500015259\n",
      "Batch 11000 Hold-Out Accuracy: 0.620549976826\n",
      "Batch 12000 Hold-Out Accuracy: 0.622600018978\n",
      "Batch 13000 Hold-Out Accuracy: 0.62374997139\n",
      "Batch 14000 Hold-Out Accuracy: 0.617500007153\n",
      "Batch 15000 Hold-Out Accuracy: 0.630800008774\n",
      "Batch 16000 Hold-Out Accuracy: 0.622900009155\n",
      "Batch 17000 Hold-Out Accuracy: 0.636200010777\n",
      "Batch 18000 Hold-Out Accuracy: 0.63504999876\n",
      "Batch 19000 Hold-Out Accuracy: 0.633849978447\n",
      "Batch 20000 Hold-Out Accuracy: 0.630599975586\n",
      "Batch 21000 Hold-Out Accuracy: 0.631649971008\n",
      "Batch 22000 Hold-Out Accuracy: 0.635999977589\n",
      "Batch 23000 Hold-Out Accuracy: 0.641300022602\n",
      "Batch 24000 Hold-Out Accuracy: 0.637750029564\n",
      "Batch 25000 Hold-Out Accuracy: 0.637049973011\n",
      "Batch 26000 Hold-Out Accuracy: 0.636550009251\n",
      "Batch 27000 Hold-Out Accuracy: 0.635850012302\n",
      "Batch 28000 Hold-Out Accuracy: 0.641099989414\n",
      "Batch 29000 Hold-Out Accuracy: 0.635749995708\n",
      "Batch 30000 Hold-Out Accuracy: 0.641749978065\n",
      "Batch 31000 Hold-Out Accuracy: 0.641349971294\n",
      "Batch 32000 Hold-Out Accuracy: 0.643649995327\n",
      "Batch 33000 Hold-Out Accuracy: 0.646149992943\n",
      "Batch 34000 Hold-Out Accuracy: 0.642949998379\n",
      "Batch 35000 Hold-Out Accuracy: 0.64595001936\n",
      "Batch 36000 Hold-Out Accuracy: 0.649249970913\n",
      "Batch 37000 Hold-Out Accuracy: 0.647249996662\n",
      "Batch 38000 Hold-Out Accuracy: 0.650099992752\n",
      "Batch 39000 Hold-Out Accuracy: 0.650349974632\n",
      "Batch 40000 Hold-Out Accuracy: 0.649399995804\n",
      "Batch 41000 Hold-Out Accuracy: 0.650349974632\n",
      "Batch 42000 Hold-Out Accuracy: 0.654100000858\n",
      "Batch 43000 Hold-Out Accuracy: 0.646499991417\n",
      "Batch 44000 Hold-Out Accuracy: 0.645600020885\n",
      "Batch 45000 Hold-Out Accuracy: 0.653800010681\n",
      "Batch 46000 Hold-Out Accuracy: 0.652000010014\n",
      "Batch 47000 Hold-Out Accuracy: 0.654150009155\n",
      "Batch 48000 Hold-Out Accuracy: 0.653800010681\n",
      "Batch 49000 Hold-Out Accuracy: 0.653800010681\n",
      "DONE TRAINING\n",
      "FINAL ACCURACY: 0.653800010681\n"
     ]
    }
   ],
   "source": [
    "run(graph, './train/dense', batch_size=250, num_batches=50000)"
   ]
  },
  {
   "cell_type": "markdown",
   "metadata": {},
   "source": [
    "## Attempt 2: A number of parallel CovNets"
   ]
  },
  {
   "cell_type": "code",
   "execution_count": 236,
   "metadata": {},
   "outputs": [],
   "source": [
    "from keras.layers import Conv2D, Flatten\n",
    "from keras.layers.core import Reshape\n",
    "from keras.layers.merge import Concatenate\n",
    "\n",
    "# Create a graph to hold the model.\n",
    "graph = tf.Graph()\n",
    "\n",
    "# Create model in the graph.\n",
    "with graph.as_default():\n",
    "    \n",
    "    # Keras layers can be called on TensorFlow tensors:\n",
    "    board = tf.placeholder(tf.float32, shape=(None, 42), name='board') \n",
    "    outcome = tf.placeholder(tf.float32, shape=(None, 3), name='outcome')\n",
    "    \n",
    "    with tf.name_scope('d1') as scope:\n",
    "        d1 = Dense(512, activation='tanh')(board) \n",
    "        \n",
    "    # The input data is [col0=[row_0, row_1, ...], col1=[row_0, row_1], ...]\n",
    "    with tf.name_scope('reshape') as scope:\n",
    "        rs = Reshape((7, 6, 1), input_shape=(42,))(board)    \n",
    "    \n",
    "    with tf.name_scope('c1') as scope:\n",
    "        c1 = Flatten()(Conv2D(1, kernel_size=(4, 4), activation='relu', input_shape=(7, 6, 1))(rs))\n",
    "    \n",
    "    with tf.name_scope('c2') as scope:\n",
    "        c2 = Flatten()(Conv2D(1, kernel_size=(1, 4), activation='relu', input_shape=(7, 6, 1))(rs))\n",
    "\n",
    "    with tf.name_scope('c3') as scope:\n",
    "        c3 = Flatten()(Conv2D(1, kernel_size=(4, 1), activation='relu', input_shape=(7, 6, 1))(rs))\n",
    "\n",
    "    with tf.name_scope('c4') as scope:\n",
    "        c4 = Flatten()(Conv2D(1, kernel_size=(5, 5), activation='relu', input_shape=(7, 6, 1))(rs))\n",
    "\n",
    "    with tf.name_scope('c5') as scope:\n",
    "        c5 = Flatten()(Conv2D(1, kernel_size=(3, 3), activation='relu', input_shape=(7, 6, 1))(rs))\n",
    "        \n",
    "    with tf.name_scope('c6') as scope:\n",
    "        c6 = Flatten()(Conv2D(1, kernel_size=(2, 2), activation='relu', input_shape=(7, 6, 1))(rs))\n",
    "\n",
    "    with tf.name_scope('merged') as scope:\n",
    "        merged = Concatenate()([d1, c1, c2, c3, c4, c5, c6])\n",
    "    \n",
    "    with tf.name_scope('d2') as scope:\n",
    "        x = Dense(256, activation='tanh')(merged) \n",
    "        \n",
    "    with tf.name_scope('d3') as scope:\n",
    "        x = Dense(128, activation='tanh')(x)\n",
    "    \n",
    "    # fully-connected layer with 128 units and ReLU activation\n",
    "    with tf.name_scope('d4') as scope:\n",
    "        x = Dense(12, activation='tanh')(x)\n",
    "    \n",
    "    # output layer with 10 units and a softmax activation\n",
    "    with tf.name_scope('predictions') as scope:\n",
    "        preds = Dense(3, activation='softmax', name='preds')(x) \n",
    "    \n",
    "    with tf.name_scope('loss') as scope:\n",
    "        loss = tf.reduce_mean(categorical_crossentropy(outcome, preds))\n",
    "        tf.summary.scalar('loss', loss)\n",
    "        \n",
    "    with tf.name_scope('accuracy') as scope:\n",
    "        acc_value = accuracy(outcome, preds)\n",
    "        tf.summary.scalar('accuracy', tf.reduce_mean(acc_value))\n",
    "    \n",
    "    with tf.name_scope('training') as scope:\n",
    "        train_step = tf.train.AdamOptimizer(learning_rate=0.001).minimize(loss)    \n",
    "    \n",
    "    # Initialize all variables\n",
    "    init_op = tf.global_variables_initializer()\n",
    "    \n",
    "    all_summaries = tf.summary.merge_all()"
   ]
  },
  {
   "cell_type": "code",
   "execution_count": 238,
   "metadata": {
    "scrolled": false
   },
   "outputs": [
    {
     "name": "stdout",
     "output_type": "stream",
     "text": [
      "Running ./train/conv2d_2017_05_29_14:37:42\n",
      "Batch 0 Hold-Out Accuracy: 0.307200014591 Time taken: 0.0s\n",
      "Batch 1000 Hold-Out Accuracy: 0.5950999856 Time taken: 12.4s\n",
      "Batch 2000 Hold-Out Accuracy: 0.595600008965 Time taken: 12.8s\n",
      "Batch 3000 Hold-Out Accuracy: 0.601949989796 Time taken: 12.2s\n",
      "Batch 4000 Hold-Out Accuracy: 0.607949972153 Time taken: 15.7s\n",
      "DONE TRAINING\n",
      "FINAL ACCURACY: 0.607949972153\n",
      "SAVING TO: ./models/cov2d_2017_05_29_14:37:42\n",
      "[[  4.10964549e-01   5.89025736e-01   9.66553944e-06]]\n"
     ]
    }
   ],
   "source": [
    "sess = run(graph, './train/conv2d', batch_size=250, num_batches=5000, save_prefix='./models/cov2d')"
   ]
  },
  {
   "cell_type": "code",
   "execution_count": null,
   "metadata": {},
   "outputs": [],
   "source": []
  },
  {
   "cell_type": "code",
   "execution_count": 226,
   "metadata": {},
   "outputs": [
    {
     "data": {
      "text/plain": [
       "(1, 42)"
      ]
     },
     "execution_count": 226,
     "metadata": {},
     "output_type": "execute_result"
    }
   ],
   "source": [
    "holdout_features.iloc[0,:].values.reshape(1, 42).shape"
   ]
  },
  {
   "cell_type": "code",
   "execution_count": 240,
   "metadata": {
    "scrolled": false
   },
   "outputs": [
    {
     "name": "stdout",
     "output_type": "stream",
     "text": [
      "INFO:tensorflow:Restoring parameters from /Users/george/Stats/ConnectFour/models/cov2d_2017_05_29_14:37:42/model\n",
      "[[  4.10964549e-01   5.89025736e-01   9.66553944e-06]]\n"
     ]
    }
   ],
   "source": []
  }
 ],
 "metadata": {
  "kernelspec": {
   "display_name": "Python 2",
   "language": "python",
   "name": "python2"
  },
  "language_info": {
   "codemirror_mode": {
    "name": "ipython",
    "version": 2
   },
   "file_extension": ".py",
   "mimetype": "text/x-python",
   "name": "python",
   "nbconvert_exporter": "python",
   "pygments_lexer": "ipython2",
   "version": "2.7.11"
  }
 },
 "nbformat": 4,
 "nbformat_minor": 2
}
