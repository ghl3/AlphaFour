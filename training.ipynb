{
 "cells": [
  {
   "cell_type": "code",
   "execution_count": 1,
   "metadata": {},
   "outputs": [],
   "source": [
    "from __future__ import division"
   ]
  },
  {
   "cell_type": "code",
   "execution_count": 2,
   "metadata": {},
   "outputs": [],
   "source": [
    "import os\n",
    "import random\n",
    "import math\n",
    "import datetime\n",
    "import time"
   ]
  },
  {
   "cell_type": "code",
   "execution_count": 3,
   "metadata": {},
   "outputs": [],
   "source": [
    "import numpy as np\n",
    "import pandas as pd"
   ]
  },
  {
   "cell_type": "code",
   "execution_count": 4,
   "metadata": {},
   "outputs": [
    {
     "name": "stderr",
     "output_type": "stream",
     "text": [
      "Using TensorFlow backend.\n"
     ]
    }
   ],
   "source": [
    "import tensorflow as tf\n",
    "from keras import backend as K"
   ]
  },
  {
   "cell_type": "markdown",
   "metadata": {},
   "source": [
    "# Train a new model\n",
    "- Load the features/targets\n",
    "- Create a model\n",
    "- Save it with a nice name to 'models/{}'"
   ]
  },
  {
   "cell_type": "code",
   "execution_count": null,
   "metadata": {},
   "outputs": [],
   "source": [
    "features = pd.read_csv('training_data/random-2017-10-21-12:57:12/features.csv',\n",
    "                       names=['game_idx'] + range(42),\n",
    "                       dtype='int')\n",
    "\n",
    "targets = pd.read_csv('training_data/random-2017-10-21-12:57:12/targets.csv',\n",
    "                      names=['game_idx', 'win', 'lose', 'draw'],\n",
    "                      dtype='int')"
   ]
  },
  {
   "cell_type": "code",
   "execution_count": 31,
   "metadata": {},
   "outputs": [],
   "source": [
    "# Split into training and holdout,\n",
    "# ensuring separate games \n",
    "\n",
    "train_games = pd.Series(features.game_idx.unique()).sample(frac=0.8).values #games = #features.game_idx.unique()\n",
    "\n",
    "features_train = features[features.game_idx.isin(train_games)].drop('game_idx', axis=1)\n",
    "targets_train = targets[targets.game_idx.isin(train_games)].drop('game_idx', axis=1)\n",
    "\n",
    "features_test = features[~features.game_idx.isin(train_games)].drop('game_idx', axis=1)\n",
    "targets_test = targets[~targets.game_idx.isin(train_games)].drop('game_idx', axis=1)"
   ]
  },
  {
   "cell_type": "code",
   "execution_count": 32,
   "metadata": {},
   "outputs": [
    {
     "name": "stdout",
     "output_type": "stream",
     "text": [
      "414566 331848 82718\n",
      "414566 331848 82718\n"
     ]
    }
   ],
   "source": [
    "print len(features), len(features_train), len(features_test)\n",
    "print len(targets), len(targets_train), len(targets_test)"
   ]
  },
  {
   "cell_type": "code",
   "execution_count": null,
   "metadata": {},
   "outputs": [],
   "source": []
  },
  {
   "cell_type": "code",
   "execution_count": null,
   "metadata": {
    "scrolled": true
   },
   "outputs": [],
   "source": []
  },
  {
   "cell_type": "code",
   "execution_count": null,
   "metadata": {},
   "outputs": [],
   "source": []
  },
  {
   "cell_type": "code",
   "execution_count": 34,
   "metadata": {},
   "outputs": [],
   "source": [
    "def get_batch_iter(batch_size, batch_idx, dfs):\n",
    "    \n",
    "    length = len(dfs[0])\n",
    "    for df in dfs:\n",
    "        assert len(df) == length\n",
    "        \n",
    "    batches_per_df = int(math.ceil(length / batch_size))\n",
    "    \n",
    "    local_idx = batch_idx % batches_per_df\n",
    "    \n",
    "    start = local_idx*batch_size\n",
    "    end = (local_idx+1)*batch_size\n",
    "    \n",
    "    return [df.iloc[start:end] for df in dfs]\n",
    "\n",
    "\n",
    "def get_batch_random(batch_size, _, dfs):    \n",
    "    mask = pd.Series(dfs[0].index).sample(n=batch_size, replace=False)    \n",
    "    return [df.loc[mask] for df in dfs]\n",
    "\n",
    "\n",
    "def get_batch(batch_size, batch_idx, dfs, how='iter'):\n",
    "    if how == 'iter':\n",
    "        return get_batch_iter(batch_size, batch_idx, dfs)\n",
    "    elif how == 'random':\n",
    "        return get_batch_random(batch_size, batch_idx, dfs)\n",
    "    else:\n",
    "        raise Exception()"
   ]
  },
  {
   "cell_type": "code",
   "execution_count": 42,
   "metadata": {},
   "outputs": [],
   "source": [
    "def run(graph, output_prefix, batch_size, num_batches, batch_how='iter'):\n",
    "    \n",
    "    with tf.Session(graph=graph) as sess:\n",
    "    \n",
    "        K.set_session(sess)\n",
    "        sess.run(init_op)\n",
    "    \n",
    "        #suffix = datetime.datetime.now().strftime(\"%Y_%m_%d_%H:%M:%S\")\n",
    "        #name = output_prefix #'{}_{}'.format(output_prefix, suffix)\n",
    "        #save_name = \"{}/model\".format(name) #, suffix)\n",
    "\n",
    "        train_writer = tf.summary.FileWriter(output_prefix, sess.graph)\n",
    "        \n",
    "        print \"Running {}\".format(output_prefix)\n",
    "            \n",
    "        t = time.time()\n",
    "        delta_t = 0\n",
    "        \n",
    "        for i in range(num_batches):\n",
    "        \n",
    "            if i % 1000 == 0:\n",
    "                \n",
    "                delta_t = time.time() - t\n",
    "                t = time.time()\n",
    "                    \n",
    "                acc = acc_value.eval(feed_dict={board: features_test, outcome: targets_test}).mean()\n",
    "                print \"Batch {} Hold-Out Accuracy: {} Time taken: {:.1f}s\".format(i, acc, delta_t)\n",
    "\n",
    "                summary = sess.run(all_summaries, feed_dict={board: features_test, outcome: targets_test})\n",
    "                train_writer.add_summary(summary, i)            \n",
    "            \n",
    "            batch = get_batch(batch_size, i, [features_train, targets_train], how=batch_how)        \n",
    "            train_step.run(feed_dict={board: batch[0], outcome: batch[1]})\n",
    "        \n",
    "        print \"DONE TRAINING\"\n",
    "        print \"FINAL ACCURACY: {}\".format(acc)\n",
    "        train_writer.close()\n",
    "        \n",
    "        model_dir = '{}/model'.format(output_prefix)\n",
    "        print \"SAVING TO: {}\".format(model_dir)\n",
    "        tf.train.Saver().save(sess, model_dir)"
   ]
  },
  {
   "cell_type": "markdown",
   "metadata": {},
   "source": [
    "## Attempt 1: Normal dense fully-connected neural network"
   ]
  },
  {
   "cell_type": "code",
   "execution_count": 36,
   "metadata": {},
   "outputs": [],
   "source": [
    "from keras.layers import Dense\n",
    "from keras.objectives import categorical_crossentropy\n",
    "from keras.metrics import categorical_accuracy as accuracy\n",
    "from keras.regularizers import l2\n",
    "\n",
    "# Create a graph to hold the model.\n",
    "graph = tf.Graph()\n",
    "\n",
    "# Create model in the graph.\n",
    "with graph.as_default():\n",
    "\n",
    "    # Keras layers can be called on TensorFlow tensors:\n",
    "    board = tf.placeholder(tf.float32, shape=(None, 42), name='board')\n",
    "    outcome = tf.placeholder(tf.float32, shape=(None, 3), name='outcome')\n",
    "\n",
    "    # Fully connected layers\n",
    "    x = Dense(512, activation='tanh')(board)    \n",
    "    x = Dense(512, activation='tanh')(x) \n",
    "    x = Dense(512, activation='tanh')(x)\n",
    "    x = Dense(48, activation='tanh')(x)\n",
    "\n",
    "    # output layer with 10 units and a softmax activation\n",
    "    preds = Dense(3, activation='softmax', name='preds')(x) \n",
    "        \n",
    "    with tf.name_scope('evaluation') as scope:\n",
    "        loss = tf.reduce_mean(categorical_crossentropy(outcome, preds))\n",
    "        tf.summary.scalar('loss', loss)    \n",
    "    \n",
    "        acc_value = accuracy(outcome, preds)\n",
    "        tf.summary.scalar('accuracy', tf.reduce_mean(acc_value))\n",
    "    \n",
    "    with tf.name_scope('training') as scope:\n",
    "        train_step = tf.train.AdamOptimizer(learning_rate=0.0001).minimize(loss)\n",
    "    \n",
    "    # Initialize all variables\n",
    "    init_op = tf.global_variables_initializer()\n",
    "    \n",
    "    all_summaries = tf.summary.merge_all()"
   ]
  },
  {
   "cell_type": "code",
   "execution_count": null,
   "metadata": {
    "scrolled": false
   },
   "outputs": [
    {
     "name": "stdout",
     "output_type": "stream",
     "text": [
      "Running ./models/dense_2017_10_21_13:40:29/\n",
      "Batch 0 Hold-Out Accuracy: 0.328731358051 Time taken: 0.0s\n",
      "Batch 1000 Hold-Out Accuracy: 0.546446979046 Time taken: 15.0s\n",
      "Batch 2000 Hold-Out Accuracy: 0.540692448616 Time taken: 15.8s\n",
      "Batch 3000 Hold-Out Accuracy: 0.556529402733 Time taken: 16.4s\n",
      "Batch 4000 Hold-Out Accuracy: 0.555465579033 Time taken: 16.6s\n"
     ]
    }
   ],
   "source": [
    "run(graph, './models/dense_{}/'.format(datetime.datetime.now().strftime(\"%Y_%m_%d_%H:%M:%S\")),\n",
    "    batch_size=200,\n",
    "    num_batches=10000)"
   ]
  },
  {
   "cell_type": "markdown",
   "metadata": {},
   "source": [
    "## Attempt 2: A number of parallel CovNets"
   ]
  },
  {
   "cell_type": "code",
   "execution_count": null,
   "metadata": {
    "collapsed": true
   },
   "outputs": [],
   "source": [
    "from keras.layers import Conv2D, Flatten\n",
    "from keras.layers.core import Reshape\n",
    "from keras.layers.merge import Concatenate\n",
    "\n",
    "# Create a graph to hold the model.\n",
    "graph = tf.Graph()\n",
    "\n",
    "# Create model in the graph.\n",
    "with graph.as_default():\n",
    "    \n",
    "    # Keras layers can be called on TensorFlow tensors:\n",
    "    board = tf.placeholder(tf.float32, shape=(None, 42), name='board') \n",
    "    outcome = tf.placeholder(tf.float32, shape=(None, 3), name='outcome')\n",
    "    \n",
    "    d1 = Dense(512, activation='tanh')(board) \n",
    "        \n",
    "    # The input data is [col0=[row_0, row_1, ...], col1=[row_0, row_1], ...]\n",
    "    rs = Reshape((7, 6, 1), input_shape=(42,))(board)    \n",
    "    \n",
    "    c1 = Flatten()(Conv2D(1, kernel_size=(4, 4), activation='relu', input_shape=(7, 6, 1))(rs))\n",
    "    c2 = Flatten()(Conv2D(1, kernel_size=(1, 4), activation='relu', input_shape=(7, 6, 1))(rs))\n",
    "    c3 = Flatten()(Conv2D(1, kernel_size=(4, 1), activation='relu', input_shape=(7, 6, 1))(rs))\n",
    "    c4 = Flatten()(Conv2D(1, kernel_size=(5, 5), activation='relu', input_shape=(7, 6, 1))(rs))\n",
    "    c5 = Flatten()(Conv2D(1, kernel_size=(3, 3), activation='relu', input_shape=(7, 6, 1))(rs))    \n",
    "    c6 = Flatten()(Conv2D(1, kernel_size=(2, 2), activation='relu', input_shape=(7, 6, 1))(rs))\n",
    "\n",
    "    merged = Concatenate()([d1, c1, c2, c3, c4, c5, c6])\n",
    "    \n",
    "    x = Dense(256, activation='tanh')(merged)         \n",
    "    x = Dense(128, activation='tanh')(x)    \n",
    "    x = Dense(12, activation='tanh')(x)\n",
    "    \n",
    "    # output layer with 10 units and a softmax activation\n",
    "    preds = Dense(3, activation='softmax', name='preds')(x) \n",
    "    \n",
    "    with tf.name_scope('evaluation') as scope:\n",
    "        loss = tf.reduce_mean(categorical_crossentropy(outcome, preds))\n",
    "        tf.summary.scalar('loss', loss)\n",
    "        \n",
    "        acc_value = accuracy(outcome, preds)\n",
    "        tf.summary.scalar('accuracy', tf.reduce_mean(acc_value))\n",
    "    \n",
    "    with tf.name_scope('training') as scope:\n",
    "        train_step = tf.train.AdamOptimizer(learning_rate=0.001).minimize(loss)    \n",
    "    \n",
    "    # Initialize all variables\n",
    "    init_op = tf.global_variables_initializer()\n",
    "    \n",
    "    all_summaries = tf.summary.merge_all()"
   ]
  },
  {
   "cell_type": "code",
   "execution_count": null,
   "metadata": {
    "collapsed": true,
    "scrolled": true
   },
   "outputs": [],
   "source": [
    "sess = run(graph, './train/conv2d', batch_size=250, num_batches=80000, save_prefix='./models/cov2d')"
   ]
  },
  {
   "cell_type": "code",
   "execution_count": null,
   "metadata": {
    "collapsed": true
   },
   "outputs": [],
   "source": []
  },
  {
   "cell_type": "code",
   "execution_count": null,
   "metadata": {
    "collapsed": true
   },
   "outputs": [],
   "source": []
  }
 ],
 "metadata": {
  "kernelspec": {
   "display_name": "connectfour",
   "language": "python",
   "name": "connectfour"
  },
  "language_info": {
   "codemirror_mode": {
    "name": "ipython",
    "version": 2
   },
   "file_extension": ".py",
   "mimetype": "text/x-python",
   "name": "python",
   "nbconvert_exporter": "python",
   "pygments_lexer": "ipython2",
   "version": "2.7.11"
  }
 },
 "nbformat": 4,
 "nbformat_minor": 2
}
