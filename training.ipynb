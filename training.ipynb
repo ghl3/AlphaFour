{
 "cells": [
  {
   "cell_type": "code",
   "execution_count": 1,
   "metadata": {},
   "outputs": [],
   "source": [
    "from __future__ import division"
   ]
  },
  {
   "cell_type": "code",
   "execution_count": 2,
   "metadata": {},
   "outputs": [],
   "source": [
    "import os\n",
    "import random\n",
    "import math\n",
    "import datetime\n",
    "import time"
   ]
  },
  {
   "cell_type": "code",
   "execution_count": 3,
   "metadata": {},
   "outputs": [],
   "source": [
    "import matplotlib.pyplot as plt\n",
    "%matplotlib inline"
   ]
  },
  {
   "cell_type": "code",
   "execution_count": 4,
   "metadata": {},
   "outputs": [],
   "source": [
    "import numpy as np\n",
    "import pandas as pd"
   ]
  },
  {
   "cell_type": "code",
   "execution_count": 5,
   "metadata": {},
   "outputs": [
    {
     "name": "stderr",
     "output_type": "stream",
     "text": [
      "Using TensorFlow backend.\n"
     ]
    }
   ],
   "source": [
    "import tensorflow as tf\n",
    "from keras import backend as K\n",
    "from keras import regularizers"
   ]
  },
  {
   "cell_type": "code",
   "execution_count": 33,
   "metadata": {},
   "outputs": [],
   "source": [
    "from keras.layers import Dense\n",
    "from keras.objectives import categorical_crossentropy\n",
    "from keras.metrics import categorical_accuracy\n",
    "from keras.regularizers import l2\n",
    "from keras.layers import Conv2D, Flatten\n",
    "from keras.layers.core import Reshape\n",
    "from keras.layers.merge import Concatenate\n",
    "from keras import optimizers\n",
    "from keras.layers import InputLayer, Dense, Activation\n"
   ]
  },
  {
   "cell_type": "code",
   "execution_count": 7,
   "metadata": {},
   "outputs": [],
   "source": [
    "%load_ext autoreload\n",
    "%autoreload 1\n",
    "\n",
    "%aimport training"
   ]
  },
  {
   "cell_type": "code",
   "execution_count": 8,
   "metadata": {},
   "outputs": [
    {
     "name": "stdout",
     "output_type": "stream",
     "text": [
      "Done Importing\n"
     ]
    }
   ],
   "source": [
    "print \"Done Importing\""
   ]
  },
  {
   "cell_type": "code",
   "execution_count": null,
   "metadata": {},
   "outputs": [],
   "source": [
    "sess = tf.Session(config=tf.ConfigProto(log_device_placement=True))"
   ]
  },
  {
   "cell_type": "markdown",
   "metadata": {},
   "source": [
    "# Architectures"
   ]
  },
  {
   "cell_type": "markdown",
   "metadata": {},
   "source": [
    "## Arch 1: Normal dense fully-connected neural network"
   ]
  },
  {
   "cell_type": "code",
   "execution_count": null,
   "metadata": {},
   "outputs": [],
   "source": [
    "# Create a graph to hold the model.\n",
    "graph_dense = tf.Graph()\n",
    "\n",
    "# Create model in the graph.\n",
    "with graph_dense.as_default():\n",
    "\n",
    "    # Keras layers can be called on TensorFlow tensors:\n",
    "    board = tf.placeholder(tf.float32, shape=(None, 42), name='board')\n",
    "    outcome = tf.placeholder(tf.float32, shape=(None, 3), name='outcome')\n",
    "\n",
    "    # Fully connected layers\n",
    "    \n",
    "    x = Dense(2048,\n",
    "              activation='relu',\n",
    "              kernel_regularizer=regularizers.l2(0.1),\n",
    "              bias_regularizer=regularizers.l2(0.1),\n",
    "              kernel_initializer='random_uniform',\n",
    "              bias_initializer='zeros')(board)\n",
    "    \n",
    "    x = Dense(1024,\n",
    "              activation='relu',\n",
    "              kernel_regularizer=regularizers.l2(0.1),\n",
    "              bias_regularizer=regularizers.l2(0.1),\n",
    "              kernel_initializer='random_uniform',\n",
    "              bias_initializer='zeros')(x)\n",
    "   \n",
    "    x = Dense(512,\n",
    "              activation='relu',\n",
    "              kernel_regularizer=regularizers.l2(0.1),\n",
    "              bias_regularizer=regularizers.l2(0.1),\n",
    "              kernel_initializer='random_uniform',\n",
    "              bias_initializer='zeros')(x)\n",
    "    \n",
    "    x = Dense(48,\n",
    "              activation='relu',\n",
    "              kernel_regularizer=regularizers.l2(0.1),\n",
    "              bias_regularizer=regularizers.l2(0.1),\n",
    "              kernel_initializer='random_uniform',\n",
    "              bias_initializer='zeros')(x)\n",
    "\n",
    "    # output layer with 10 units and a softmax activation\n",
    "    preds = Dense(3, activation='softmax', name='preds')(x) \n",
    "        \n",
    "    with tf.name_scope('evaluation') as scope:\n",
    "        \n",
    "        loss = tf.identity(tf.reduce_mean(categorical_crossentropy(outcome, preds)), name='loss')\n",
    "        accuracy = tf.identity(tf.reduce_mean(categorical_accuracy(outcome, preds)), name='accuracy')\n",
    "                                    \n",
    "        holdout_summaries = tf.identity(tf.summary.merge([\n",
    "            tf.summary.scalar('holdout_loss', loss),\n",
    "            tf.summary.scalar('holdout_accuracy', accuracy)]),\n",
    "            name='holdout_summaries')\n",
    "        \n",
    "        batch_summaries = tf.identity(tf.summary.merge([\n",
    "            tf.summary.scalar('batch_loss', loss),\n",
    "            tf.summary.scalar('batch_accuracy', accuracy)]),\n",
    "            name='batch_summaries')       \n",
    "    \n",
    "    with tf.name_scope('training') as scope:\n",
    "        train_step = tf.train.AdamOptimizer(learning_rate=0.01, epsilon=0.1).minimize(loss, name='train_step')\n",
    "    \n",
    "    # Initialize all variables\n",
    "    init_op = tf.global_variables_initializer()\n",
    "    \n",
    "    #all_summaries = tf.summary.merge_all()"
   ]
  },
  {
   "cell_type": "markdown",
   "metadata": {},
   "source": [
    "## Arch 2: Pure CovNet"
   ]
  },
  {
   "cell_type": "code",
   "execution_count": null,
   "metadata": {
    "scrolled": false
   },
   "outputs": [],
   "source": [
    "# Create a graph to hold the model.\n",
    "graph_cov_pure = tf.Graph()\n",
    "\n",
    "# Create model in the graph.\n",
    "with graph_cov_pure.as_default():\n",
    "    \n",
    "    # Keras layers can be called on TensorFlow tensors:\n",
    "    board = tf.placeholder(tf.float32, shape=(None, 42), name='board') \n",
    "    outcome = tf.placeholder(tf.float32, shape=(None, 3), name='outcome')    \n",
    "    \n",
    "    # The input data is [col0=[row_0, row_1, ...], col1=[row_0, row_1], ...]\n",
    "    rs = Reshape((7, 6, 1), input_shape=(42,))(board)\n",
    "    \n",
    "    conv_args = dict(\n",
    "        use_bias=True,\n",
    "        activation='relu',\n",
    "        kernel_initializer='random_uniform',\n",
    "        bias_initializer='zeros',\n",
    "        kernel_regularizer=regularizers.l2(0.01),\n",
    "        input_shape=(7, 6, 1),\n",
    "        padding='valid'\n",
    "    )\n",
    "    \n",
    "    # We use a few parallel covents, that we combine in the end        \n",
    "    c1 = (Conv2D(8,  kernel_size=(1, 2), **conv_args)(rs))\n",
    "    c2 = (Conv2D(16, kernel_size=(2, 1), **conv_args)(c1))\n",
    "    c3 = (Conv2D(32, kernel_size=(3, 3), **conv_args)(c2))\n",
    "    #c4 = (Conv2D(64, kernel_size=(6, 6), **conv_args)(c3))\n",
    "    \n",
    "    dense_args = dict(\n",
    "        use_bias=True,\n",
    "        activation='relu',\n",
    "        kernel_initializer='random_uniform',\n",
    "        bias_initializer='zeros',\n",
    "        kernel_regularizer=regularizers.l2(0.01),\n",
    "        bias_regularizer=regularizers.l2(0.01),    \n",
    "    )\n",
    "    \n",
    "    d = Dense(64,  **dense_args)(Flatten()(c3))         \n",
    "    \n",
    "    # output layer with 10 units and a softmax activation\n",
    "    preds = Dense(3, activation='softmax', name='preds')(d) \n",
    "    \n",
    "    with tf.name_scope('evaluation') as scope:\n",
    "                                \n",
    "        loss = tf.identity(tf.reduce_mean(categorical_crossentropy(outcome, preds)), name='loss')\n",
    "        accuracy = tf.identity(tf.reduce_mean(categorical_accuracy(outcome, preds)), name='accuracy')        \n",
    "        \n",
    "        holdout_summaries = tf.identity(tf.summary.merge([\n",
    "            tf.summary.scalar('holdout_loss', loss),\n",
    "            tf.summary.scalar('holdout_accuracy', accuracy)]),\n",
    "            name='holdout_summaries')\n",
    "        \n",
    "        batch_summaries = tf.identity(tf.summary.merge([\n",
    "            tf.summary.scalar('batch_loss', loss),\n",
    "            tf.summary.scalar('batch_accuracy', accuracy)]),\n",
    "            name='batch_summaries')                 \n",
    "        \n",
    "        #tf.summary.scalar('holdout_loss', loss)\n",
    "        \n",
    "        #acc_value = tf.identity(accuracy(outcome, preds), name='accuracy')\n",
    "        #tf.summary.scalar('holdout_accuracy', tf.reduce_mean(acc_value))\n",
    "    \n",
    "    with tf.name_scope('training') as scope:\n",
    "        train_step = tf.train.AdamOptimizer(learning_rate=0.01).minimize(loss, name='train_step')    \n",
    "    \n",
    "    # Initialize all variables\n",
    "    init_op = tf.global_variables_initializer()\n",
    "    \n",
    "    all_summaries = tf.summary.merge_all()"
   ]
  },
  {
   "cell_type": "markdown",
   "metadata": {},
   "source": [
    "## Arch 3: Hybrid CovNet"
   ]
  },
  {
   "cell_type": "code",
   "execution_count": 115,
   "metadata": {},
   "outputs": [],
   "source": [
    "# Create a graph to hold the model.\n",
    "graph_cov_comp = tf.Graph()\n",
    "\n",
    "# Create model in the graph.\n",
    "with graph_cov_comp.as_default():\n",
    "    \n",
    "    # Keras layers can be called on TensorFlow tensors:\n",
    "    board = tf.placeholder(tf.float32, shape=(None, 42), name='board') \n",
    "    outcome = tf.placeholder(tf.float32, shape=(None, 3), name='outcome')    \n",
    "    \n",
    "    conv_args = dict(\n",
    "        use_bias=True,\n",
    "        activation=\"relu\",\n",
    "        kernel_initializer='random_uniform',\n",
    "        bias_initializer='zeros',\n",
    "        #kernel_regularizer=regularizers.l1_l2(0.1),\n",
    "        #bias_regularizer=regularizers.l1_l2(0.1),\n",
    "        padding='valid'\n",
    "    )\n",
    "    \n",
    "    dense_args = dict(\n",
    "        use_bias=True,\n",
    "        activation=\"relu\",\n",
    "        kernel_initializer='random_uniform',\n",
    "        bias_initializer='zeros',\n",
    "        #kernel_regularizer=regularizers.l1_l2(1.0),\n",
    "        #bias_regularizer=regularizers.l1_l2(1.0),    \n",
    "    )\n",
    "    \n",
    "    #\n",
    "    # Covnet Graph\n",
    "    #\n",
    "    \n",
    "    rs = Reshape((7, 6, 1), input_shape=(42,))(board)\n",
    "    \n",
    "    caa = Flatten()(Conv2D(12, kernel_size=(5, 5), **conv_args)(rs))\n",
    "    cab = Flatten()(Conv2D(12, kernel_size=(4, 4), **conv_args)(rs))\n",
    "\n",
    "    cba = Flatten()(Conv2D(8, kernel_size=(6, 1), **conv_args)(rs))\n",
    "    cbb = Flatten()(Conv2D(8, kernel_size=(1, 6), **conv_args)(rs))\n",
    "    \n",
    "    cbc = Flatten()(Conv2D(8, kernel_size=(4, 2), **conv_args)(rs))\n",
    "    cbd = Flatten()(Conv2D(8, kernel_size=(2, 4), **conv_args)(rs))\n",
    "    \n",
    "    cbe = Flatten()(Conv2D(8, kernel_size=(5, 3), **conv_args)(rs))\n",
    "    cbf = Flatten()(Conv2D(8, kernel_size=(3, 5), **conv_args)(rs))\n",
    "    \n",
    "    cca = Flatten()(Conv2D(8,  kernel_size=(1, 4), **conv_args)(rs))\n",
    "    ccb = Flatten()(Conv2D(8,  kernel_size=(4, 1), **conv_args)(rs))\n",
    "       \n",
    "    call = Concatenate()([\n",
    "        caa, cab,\n",
    "        cba, cbb, cbc, cbd, cbe, cbf,\n",
    "        cca, ccb])\n",
    "    cd1 = Dense(512, **dense_args)(call)\n",
    "    cd2 = Dense(256, **dense_args)(cd1)\n",
    "    \n",
    "    #\n",
    "    # Dense Graph\n",
    "    #\n",
    "    \n",
    "    d1  = Dense(512, **dense_args)(board)\n",
    "    d2  = Dense(256, **dense_args)(d1)\n",
    "    \n",
    "    #\n",
    "    # Combine the two\n",
    "    #\n",
    "    \n",
    "    x = Concatenate()([cd2, d2])\n",
    "    x = Dense(128, **dense_args)(x)    \n",
    "    x = Dense(12,  **dense_args)(x)\n",
    "    \n",
    "    # output layer with 10 units and a softmax activation\n",
    "    preds = Dense(3, activation='softmax', name='preds')(x) \n",
    "    \n",
    "    with tf.name_scope('evaluation') as scope:\n",
    "        \n",
    "        loss = tf.identity(tf.reduce_mean(categorical_crossentropy(outcome, preds)), name='loss')\n",
    "        accuracy = tf.identity(tf.reduce_mean(categorical_accuracy(outcome, preds)), name='accuracy')        \n",
    "        \n",
    "        holdout_summaries = tf.identity(tf.summary.merge([\n",
    "            tf.summary.scalar('holdout_loss', loss),\n",
    "            tf.summary.scalar('holdout_accuracy', accuracy)]),\n",
    "            name='holdout_summaries')\n",
    "        \n",
    "        batch_summaries = tf.identity(tf.summary.merge([\n",
    "            tf.summary.scalar('batch_loss', loss),\n",
    "            tf.summary.scalar('batch_accuracy', accuracy)]),\n",
    "            name='batch_summaries')  \n",
    "    \n",
    "    with tf.name_scope('training') as scope:\n",
    "        \n",
    "        train_step = tf.train.AdamOptimizer(learning_rate=0.001).minimize(loss, name='train_step')\n",
    "        \n",
    "    # Initialize all variables\n",
    "    init_op = tf.global_variables_initializer()"
   ]
  },
  {
   "cell_type": "markdown",
   "metadata": {},
   "source": [
    "-----------------------"
   ]
  },
  {
   "cell_type": "markdown",
   "metadata": {},
   "source": [
    "# Gen 1"
   ]
  },
  {
   "cell_type": "code",
   "execution_count": null,
   "metadata": {},
   "outputs": [],
   "source": [
    "#simulations/random-2017-10-28-17:13:04\n",
    "\n",
    "# 'random-2017-10-21-13:41:47'\n",
    "# 'random-2017-10-28-17:13:04'\n",
    "\n",
    "ds_gen1 = (training.DataLoader(frac_train=0.95, frac_test=0.05)\n",
    "           .add_dataset('random-2017-10-28-17:13:04')\n",
    "           .load())"
   ]
  },
  {
   "cell_type": "code",
   "execution_count": 113,
   "metadata": {},
   "outputs": [
    {
     "name": "stdout",
     "output_type": "stream",
     "text": [
      "Num Training Rows: 9848999\n",
      "Num Testing Rows: 517340\n"
     ]
    }
   ],
   "source": [
    "print \"Num Training Rows: {}\".format(len(ds_gen1.X_train))\n",
    "print \"Num Testing Rows: {}\".format(len(ds_gen1.X_test))"
   ]
  },
  {
   "cell_type": "markdown",
   "metadata": {},
   "source": [
    "### Fully Connected"
   ]
  },
  {
   "cell_type": "code",
   "execution_count": null,
   "metadata": {
    "scrolled": true
   },
   "outputs": [],
   "source": [
    "training.train(graph_dense, './models/dense_{}'.format(datetime.datetime.now().strftime(\"%Y_%m_%d_%H%M%S\")),\n",
    "               ds_gen1,  batch_size=200, num_batches=15000)"
   ]
  },
  {
   "cell_type": "markdown",
   "metadata": {},
   "source": [
    "### Covnet"
   ]
  },
  {
   "cell_type": "code",
   "execution_count": null,
   "metadata": {},
   "outputs": [],
   "source": [
    "training.train(graph_cov_pure, './models/cov_pure_{}'.format(datetime.datetime.now().strftime(\"%Y_%m_%d_%H%M%S\")),\n",
    "               ds_gen1,  batch_size=200, num_batches=20000)"
   ]
  },
  {
   "cell_type": "markdown",
   "metadata": {},
   "source": [
    "### Hybrid Covnet"
   ]
  },
  {
   "cell_type": "code",
   "execution_count": null,
   "metadata": {},
   "outputs": [],
   "source": [
    "# Best: gen1-cov2d_beta_2017_10_29_150829\n",
    "# Dataset: 'random-2017-10-28-17:13:04'\n",
    "# batch_size=500, learning_rate=0.001, regularization=(l1_l2, 1.0) (regularization of 0.1 seems to have the same effect...)\n",
    "# Include all convolutions (adding cc, cf, cg, ch)\n",
    "# Include 4 layers of dense: 512, 256, 128, 12\n",
    "# Accuracy: ~ .64"
   ]
  },
  {
   "cell_type": "code",
   "execution_count": 116,
   "metadata": {},
   "outputs": [
    {
     "name": "stdout",
     "output_type": "stream",
     "text": [
      "Running ./models/gen1-cov2d_alpha_2017_11_05_182959\n",
      "Epoch  0 Num Batches    0 Num Rows:          0 Hold-Out Accuracy: 0.4734 Loss: 1.0858 Time taken: 0.4s\n",
      "Epoch  1 Num Batches  800 Num Rows:     240000 Hold-Out Accuracy: 0.5805 Loss: 0.7513 Time taken: 43.7s\n",
      "Epoch  2 Num Batches 1600 Num Rows:     480000 Hold-Out Accuracy: 0.5904 Loss: 0.7436 Time taken: 39.2s\n",
      "Epoch  3 Num Batches 2400 Num Rows:     720000 Hold-Out Accuracy: 0.5962 Loss: 0.7380 Time taken: 42.1s\n",
      "Epoch  4 Num Batches 3200 Num Rows:     960000 Hold-Out Accuracy: 0.6014 Loss: 0.7372 Time taken: 44.7s\n",
      "Epoch  5 Num Batches 4000 Num Rows:    1200000 Hold-Out Accuracy: 0.6124 Loss: 0.7217 Time taken: 41.5s\n",
      "Epoch  6 Num Batches 4800 Num Rows:    1440000 Hold-Out Accuracy: 0.6182 Loss: 0.7130 Time taken: 46.6s\n",
      "Epoch  7 Num Batches 5600 Num Rows:    1680000 Hold-Out Accuracy: 0.6231 Loss: 0.7069 Time taken: 43.3s\n",
      "Epoch  8 Num Batches 6400 Num Rows:    1920000 Hold-Out Accuracy: 0.6200 Loss: 0.7101 Time taken: 42.5s\n",
      "Epoch  9 Num Batches 7200 Num Rows:    2160000 Hold-Out Accuracy: 0.6239 Loss: 0.7033 Time taken: 42.6s\n",
      "Epoch 10 Num Batches 8000 Num Rows:    2400000 Hold-Out Accuracy: 0.6274 Loss: 0.6986 Time taken: 42.5s\n",
      "Epoch 11 Num Batches 8800 Num Rows:    2640000 Hold-Out Accuracy: 0.6236 Loss: 0.7017 Time taken: 44.8s\n",
      "Epoch 12 Num Batches 9600 Num Rows:    2880000 Hold-Out Accuracy: 0.6277 Loss: 0.6969 Time taken: 44.3s\n",
      "Epoch 13 Num Batches 10400 Num Rows:    3120000 Hold-Out Accuracy: 0.6290 Loss: 0.6961 Time taken: 41.1s\n",
      "Epoch 14 Num Batches 11200 Num Rows:    3360000 Hold-Out Accuracy: 0.6301 Loss: 0.6943 Time taken: 41.6s\n",
      "Epoch 15 Num Batches 12000 Num Rows:    3600000 Hold-Out Accuracy: 0.6284 Loss: 0.6957 Time taken: 49.7s\n",
      "\n",
      "FINAL ACCURACY: 0.6284 FINAL LOSS: 0.6957\n",
      "SAVING MODEL TO: ./models/gen1-cov2d_alpha_2017_11_05_182959/model\n"
     ]
    }
   ],
   "source": [
    "training.train(graph_cov_comp, './models/gen1-cov2d_alpha_{}'.format(datetime.datetime.now().strftime(\"%Y_%m_%d_%H%M%S\")),\n",
    "               ds_gen1, batch_size=300, epoch_size=240000, num_epochs=15)"
   ]
  },
  {
   "cell_type": "markdown",
   "metadata": {},
   "source": [
    "-----------------"
   ]
  },
  {
   "cell_type": "markdown",
   "metadata": {},
   "source": [
    "# Gen 2"
   ]
  },
  {
   "cell_type": "code",
   "execution_count": 92,
   "metadata": {},
   "outputs": [],
   "source": [
    "ds_gen2 = (training.DataLoader(frac_train=0.95, frac_test=0.05)\n",
    "           .add_dataset('random-2017-10-28-17:13:04', 200000)\n",
    "           .add_dataset('gen1-cov2d_alpha_2017_10_29_150829-2017-10-29-16:57:41')\n",
    "           .load())\n",
    "\n",
    "# Use all the advanced data\n",
    "# 10,000 rows of gen-1 vs gen-1 data\n",
    "#key = 'gen-1-cov2d_beta_2017_10_22_142925'\n",
    "#features, targets, features_train, target_train, features_test, target_test = load_data('training_data/gen-1-cov2d_beta_2017_10_22_142925')"
   ]
  },
  {
   "cell_type": "code",
   "execution_count": 94,
   "metadata": {},
   "outputs": [
    {
     "name": "stdout",
     "output_type": "stream",
     "text": [
      "Num Training Rows: 3645646\n",
      "Num Testing Rows: 192764\n"
     ]
    }
   ],
   "source": [
    "print \"Num Training Rows: {}\".format(len(ds_gen2.X_train))\n",
    "print \"Num Testing Rows: {}\".format(len(ds_gen2.X_test))"
   ]
  },
  {
   "cell_type": "code",
   "execution_count": 95,
   "metadata": {},
   "outputs": [
    {
     "name": "stdout",
     "output_type": "stream",
     "text": [
      "Running ./models/gen2-cov2d_beta_2017_11_05_114919\n",
      "Epoch  0 Num Batches    0 Num Rows:          0 Hold-Out Accuracy: 0.4775 Loss: 1.0965 Time taken: 0.2s\n",
      "Epoch  1 Num Batches  800 Num Rows:     240000 Hold-Out Accuracy: 0.5944 Loss: 0.7140 Time taken: 34.6s\n",
      "Epoch  2 Num Batches 1600 Num Rows:     480000 Hold-Out Accuracy: 0.5978 Loss: 0.7125 Time taken: 37.5s\n",
      "Epoch  3 Num Batches 2400 Num Rows:     720000 Hold-Out Accuracy: 0.6188 Loss: 0.6942 Time taken: 39.7s\n",
      "Epoch  4 Num Batches 3200 Num Rows:     960000 Hold-Out Accuracy: 0.6314 Loss: 0.6812 Time taken: 38.9s\n",
      "Epoch  5 Num Batches 4000 Num Rows:    1200000 Hold-Out Accuracy: 0.6373 Loss: 0.6738 Time taken: 39.6s\n",
      "Epoch  6 Num Batches 4800 Num Rows:    1440000 Hold-Out Accuracy: 0.6414 Loss: 0.6682 Time taken: 42.9s\n",
      "Epoch  7 Num Batches 5600 Num Rows:    1680000 Hold-Out Accuracy: 0.6436 Loss: 0.6653 Time taken: 41.2s\n",
      "Epoch  8 Num Batches 6400 Num Rows:    1920000 Hold-Out Accuracy: 0.6470 Loss: 0.6601 Time taken: 38.5s\n",
      "Epoch  9 Num Batches 7200 Num Rows:    2160000 Hold-Out Accuracy: 0.6469 Loss: 0.6570 Time taken: 39.6s\n",
      "Epoch 10 Num Batches 8000 Num Rows:    2400000 Hold-Out Accuracy: 0.6470 Loss: 0.6547 Time taken: 38.7s\n",
      "Epoch 11 Num Batches 8800 Num Rows:    2640000 Hold-Out Accuracy: 0.6501 Loss: 0.6539 Time taken: 40.7s\n",
      "Epoch 12 Num Batches 9600 Num Rows:    2880000 Hold-Out Accuracy: 0.6496 Loss: 0.6526 Time taken: 41.0s\n",
      "Epoch 13 Num Batches 10400 Num Rows:    3120000 Hold-Out Accuracy: 0.6511 Loss: 0.6507 Time taken: 41.1s\n",
      "Epoch 14 Num Batches 11200 Num Rows:    3360000 Hold-Out Accuracy: 0.6509 Loss: 0.6502 Time taken: 41.7s\n",
      "Epoch 15 Num Batches 12000 Num Rows:    3600000 Hold-Out Accuracy: 0.6510 Loss: 0.6507 Time taken: 40.8s\n",
      "\n",
      "FINAL ACCURACY: 0.6510 FINAL LOSS: 0.6507\n",
      "SAVING MODEL TO: ./models/gen2-cov2d_beta_2017_11_05_114919/model\n"
     ]
    }
   ],
   "source": [
    "training.train(graph_cov_comp, './models/gen2-cov2d_beta_{}'.format(datetime.datetime.now().strftime(\"%Y_%m_%d_%H%M%S\")),\n",
    "               ds_gen2, batch_size=300, epoch_size=240000, num_epochs=15)"
   ]
  },
  {
   "cell_type": "code",
   "execution_count": null,
   "metadata": {},
   "outputs": [],
   "source": []
  }
 ],
 "metadata": {
  "kernelspec": {
   "display_name": "Python 2",
   "language": "python",
   "name": "python2"
  },
  "language_info": {
   "codemirror_mode": {
    "name": "ipython",
    "version": 2
   },
   "file_extension": ".py",
   "mimetype": "text/x-python",
   "name": "python",
   "nbconvert_exporter": "python",
   "pygments_lexer": "ipython2",
   "version": "2.7.11"
  }
 },
 "nbformat": 4,
 "nbformat_minor": 2
}
